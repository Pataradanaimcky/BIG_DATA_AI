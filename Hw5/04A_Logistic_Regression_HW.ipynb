{
  "cells": [
    {
      "cell_type": "code",
      "execution_count": 68,
      "metadata": {
        "id": "m1K9fe6WgjbB"
      },
      "outputs": [],
      "source": [
        "%matplotlib inline\n",
        "import numpy as np\n",
        "import pandas as pd\n",
        "from sklearn import datasets\n",
        "from sklearn.preprocessing import OneHotEncoder\n",
        "from sklearn.neighbors import KNeighborsClassifier\n",
        "from sklearn.preprocessing import MinMaxScaler\n",
        "from sklearn.model_selection import train_test_split\n",
        "from sklearn import metrics\n",
        "import scipy.stats as stats\n",
        "import matplotlib.pyplot as plt\n",
        "import seaborn as sns\n",
        "import warnings\n",
        "warnings.filterwarnings('ignore')"
      ]
    },
    {
      "cell_type": "markdown",
      "metadata": {
        "id": "AFY1FDAJgjbF"
      },
      "source": [
        "#### Load Data"
      ]
    },
    {
      "cell_type": "code",
      "execution_count": 69,
      "metadata": {
        "id": "HBF4vxWvgjbH"
      },
      "outputs": [],
      "source": [
        "df = pd.read_csv(r\"/Users/yourgrandpaprogenynamesmcky/Developer/BIG_DATA_AI/Hw5/HW3_movie_metadata-661316-17373502460835.csv\")"
      ]
    },
    {
      "cell_type": "code",
      "execution_count": 70,
      "metadata": {
        "colab": {
          "base_uri": "https://localhost:8080/",
          "height": 325
        },
        "id": "TPid7ERmgjbI",
        "outputId": "6529954c-4817-47c8-ca0f-c457f467b896"
      },
      "outputs": [
        {
          "data": {
            "text/html": [
              "<div>\n",
              "<style scoped>\n",
              "    .dataframe tbody tr th:only-of-type {\n",
              "        vertical-align: middle;\n",
              "    }\n",
              "\n",
              "    .dataframe tbody tr th {\n",
              "        vertical-align: top;\n",
              "    }\n",
              "\n",
              "    .dataframe thead th {\n",
              "        text-align: right;\n",
              "    }\n",
              "</style>\n",
              "<table border=\"1\" class=\"dataframe\">\n",
              "  <thead>\n",
              "    <tr style=\"text-align: right;\">\n",
              "      <th></th>\n",
              "      <th>director_name</th>\n",
              "      <th>num_critic_for_reviews</th>\n",
              "      <th>duration</th>\n",
              "      <th>director_facebook_likes</th>\n",
              "      <th>actor_3_facebook_likes</th>\n",
              "      <th>actor_2_name</th>\n",
              "      <th>actor_1_facebook_likes</th>\n",
              "      <th>gross</th>\n",
              "      <th>genres</th>\n",
              "      <th>actor_1_name</th>\n",
              "      <th>...</th>\n",
              "      <th>num_user_for_reviews</th>\n",
              "      <th>language</th>\n",
              "      <th>country</th>\n",
              "      <th>content_rating</th>\n",
              "      <th>budget</th>\n",
              "      <th>title_year</th>\n",
              "      <th>actor_2_facebook_likes</th>\n",
              "      <th>imdb_score</th>\n",
              "      <th>aspect_ratio</th>\n",
              "      <th>movie_facebook_likes</th>\n",
              "    </tr>\n",
              "  </thead>\n",
              "  <tbody>\n",
              "    <tr>\n",
              "      <th>0</th>\n",
              "      <td>James Cameron</td>\n",
              "      <td>723.0</td>\n",
              "      <td>178.0</td>\n",
              "      <td>0.0</td>\n",
              "      <td>855.0</td>\n",
              "      <td>Joel David Moore</td>\n",
              "      <td>1000.0</td>\n",
              "      <td>760505847.0</td>\n",
              "      <td>Action|Adventure|Fantasy|Sci-Fi</td>\n",
              "      <td>CCH Pounder</td>\n",
              "      <td>...</td>\n",
              "      <td>3054.0</td>\n",
              "      <td>English</td>\n",
              "      <td>USA</td>\n",
              "      <td>PG-13</td>\n",
              "      <td>237000000.0</td>\n",
              "      <td>2009.0</td>\n",
              "      <td>936.0</td>\n",
              "      <td>7.9</td>\n",
              "      <td>1.78</td>\n",
              "      <td>33000</td>\n",
              "    </tr>\n",
              "    <tr>\n",
              "      <th>1</th>\n",
              "      <td>Gore Verbinski</td>\n",
              "      <td>302.0</td>\n",
              "      <td>169.0</td>\n",
              "      <td>563.0</td>\n",
              "      <td>1000.0</td>\n",
              "      <td>Orlando Bloom</td>\n",
              "      <td>40000.0</td>\n",
              "      <td>309404152.0</td>\n",
              "      <td>Action|Adventure|Fantasy</td>\n",
              "      <td>Johnny Depp</td>\n",
              "      <td>...</td>\n",
              "      <td>1238.0</td>\n",
              "      <td>English</td>\n",
              "      <td>USA</td>\n",
              "      <td>PG-13</td>\n",
              "      <td>300000000.0</td>\n",
              "      <td>2007.0</td>\n",
              "      <td>5000.0</td>\n",
              "      <td>7.1</td>\n",
              "      <td>2.35</td>\n",
              "      <td>0</td>\n",
              "    </tr>\n",
              "    <tr>\n",
              "      <th>2</th>\n",
              "      <td>Sam Mendes</td>\n",
              "      <td>602.0</td>\n",
              "      <td>148.0</td>\n",
              "      <td>0.0</td>\n",
              "      <td>161.0</td>\n",
              "      <td>Rory Kinnear</td>\n",
              "      <td>11000.0</td>\n",
              "      <td>200074175.0</td>\n",
              "      <td>Action|Adventure|Thriller</td>\n",
              "      <td>Christoph Waltz</td>\n",
              "      <td>...</td>\n",
              "      <td>994.0</td>\n",
              "      <td>English</td>\n",
              "      <td>UK</td>\n",
              "      <td>PG-13</td>\n",
              "      <td>245000000.0</td>\n",
              "      <td>2015.0</td>\n",
              "      <td>393.0</td>\n",
              "      <td>6.8</td>\n",
              "      <td>2.35</td>\n",
              "      <td>85000</td>\n",
              "    </tr>\n",
              "    <tr>\n",
              "      <th>3</th>\n",
              "      <td>Christopher Nolan</td>\n",
              "      <td>813.0</td>\n",
              "      <td>164.0</td>\n",
              "      <td>22000.0</td>\n",
              "      <td>23000.0</td>\n",
              "      <td>Christian Bale</td>\n",
              "      <td>27000.0</td>\n",
              "      <td>448130642.0</td>\n",
              "      <td>Action|Thriller</td>\n",
              "      <td>Tom Hardy</td>\n",
              "      <td>...</td>\n",
              "      <td>2701.0</td>\n",
              "      <td>English</td>\n",
              "      <td>USA</td>\n",
              "      <td>PG-13</td>\n",
              "      <td>250000000.0</td>\n",
              "      <td>2012.0</td>\n",
              "      <td>23000.0</td>\n",
              "      <td>8.5</td>\n",
              "      <td>2.35</td>\n",
              "      <td>164000</td>\n",
              "    </tr>\n",
              "    <tr>\n",
              "      <th>4</th>\n",
              "      <td>Doug Walker</td>\n",
              "      <td>NaN</td>\n",
              "      <td>NaN</td>\n",
              "      <td>131.0</td>\n",
              "      <td>NaN</td>\n",
              "      <td>Rob Walker</td>\n",
              "      <td>131.0</td>\n",
              "      <td>NaN</td>\n",
              "      <td>Documentary</td>\n",
              "      <td>Doug Walker</td>\n",
              "      <td>...</td>\n",
              "      <td>NaN</td>\n",
              "      <td>NaN</td>\n",
              "      <td>NaN</td>\n",
              "      <td>NaN</td>\n",
              "      <td>NaN</td>\n",
              "      <td>NaN</td>\n",
              "      <td>12.0</td>\n",
              "      <td>7.1</td>\n",
              "      <td>NaN</td>\n",
              "      <td>0</td>\n",
              "    </tr>\n",
              "  </tbody>\n",
              "</table>\n",
              "<p>5 rows × 27 columns</p>\n",
              "</div>"
            ],
            "text/plain": [
              "       director_name  num_critic_for_reviews  duration  \\\n",
              "0      James Cameron                   723.0     178.0   \n",
              "1     Gore Verbinski                   302.0     169.0   \n",
              "2         Sam Mendes                   602.0     148.0   \n",
              "3  Christopher Nolan                   813.0     164.0   \n",
              "4        Doug Walker                     NaN       NaN   \n",
              "\n",
              "   director_facebook_likes  actor_3_facebook_likes      actor_2_name  \\\n",
              "0                      0.0                   855.0  Joel David Moore   \n",
              "1                    563.0                  1000.0     Orlando Bloom   \n",
              "2                      0.0                   161.0      Rory Kinnear   \n",
              "3                  22000.0                 23000.0    Christian Bale   \n",
              "4                    131.0                     NaN        Rob Walker   \n",
              "\n",
              "   actor_1_facebook_likes        gross                           genres  \\\n",
              "0                  1000.0  760505847.0  Action|Adventure|Fantasy|Sci-Fi   \n",
              "1                 40000.0  309404152.0         Action|Adventure|Fantasy   \n",
              "2                 11000.0  200074175.0        Action|Adventure|Thriller   \n",
              "3                 27000.0  448130642.0                  Action|Thriller   \n",
              "4                   131.0          NaN                      Documentary   \n",
              "\n",
              "      actor_1_name  ... num_user_for_reviews  language  country  \\\n",
              "0      CCH Pounder  ...               3054.0   English      USA   \n",
              "1      Johnny Depp  ...               1238.0   English      USA   \n",
              "2  Christoph Waltz  ...                994.0   English       UK   \n",
              "3        Tom Hardy  ...               2701.0   English      USA   \n",
              "4      Doug Walker  ...                  NaN       NaN      NaN   \n",
              "\n",
              "  content_rating       budget title_year actor_2_facebook_likes  imdb_score  \\\n",
              "0          PG-13  237000000.0     2009.0                  936.0         7.9   \n",
              "1          PG-13  300000000.0     2007.0                 5000.0         7.1   \n",
              "2          PG-13  245000000.0     2015.0                  393.0         6.8   \n",
              "3          PG-13  250000000.0     2012.0                23000.0         8.5   \n",
              "4            NaN          NaN        NaN                   12.0         7.1   \n",
              "\n",
              "  aspect_ratio movie_facebook_likes  \n",
              "0         1.78                33000  \n",
              "1         2.35                    0  \n",
              "2         2.35                85000  \n",
              "3         2.35               164000  \n",
              "4          NaN                    0  \n",
              "\n",
              "[5 rows x 27 columns]"
            ]
          },
          "execution_count": 70,
          "metadata": {},
          "output_type": "execute_result"
        }
      ],
      "source": [
        "df.head()"
      ]
    },
    {
      "cell_type": "markdown",
      "metadata": {
        "id": "YEo6w2ozgjbJ"
      },
      "source": [
        "#### Explore Data"
      ]
    },
    {
      "cell_type": "code",
      "execution_count": 71,
      "metadata": {
        "colab": {
          "base_uri": "https://localhost:8080/"
        },
        "id": "pTjcJ7JegjbJ",
        "outputId": "eef25b33-b767-43c3-e88e-b5cc26373971"
      },
      "outputs": [
        {
          "data": {
            "text/plain": [
              "(5043, 27)"
            ]
          },
          "execution_count": 71,
          "metadata": {},
          "output_type": "execute_result"
        }
      ],
      "source": [
        "df.shape"
      ]
    },
    {
      "cell_type": "code",
      "execution_count": 72,
      "metadata": {
        "colab": {
          "base_uri": "https://localhost:8080/",
          "height": 571
        },
        "id": "9URiZ-KjgjbJ",
        "outputId": "2ae057e0-7206-4b83-cb7a-b99804f224a2"
      },
      "outputs": [
        {
          "data": {
            "text/html": [
              "<div>\n",
              "<style scoped>\n",
              "    .dataframe tbody tr th:only-of-type {\n",
              "        vertical-align: middle;\n",
              "    }\n",
              "\n",
              "    .dataframe tbody tr th {\n",
              "        vertical-align: top;\n",
              "    }\n",
              "\n",
              "    .dataframe thead th {\n",
              "        text-align: right;\n",
              "    }\n",
              "</style>\n",
              "<table border=\"1\" class=\"dataframe\">\n",
              "  <thead>\n",
              "    <tr style=\"text-align: right;\">\n",
              "      <th></th>\n",
              "      <th>count</th>\n",
              "      <th>mean</th>\n",
              "      <th>std</th>\n",
              "      <th>min</th>\n",
              "      <th>25%</th>\n",
              "      <th>50%</th>\n",
              "      <th>75%</th>\n",
              "      <th>max</th>\n",
              "    </tr>\n",
              "  </thead>\n",
              "  <tbody>\n",
              "    <tr>\n",
              "      <th>num_critic_for_reviews</th>\n",
              "      <td>4993.0</td>\n",
              "      <td>140.2</td>\n",
              "      <td>121.6</td>\n",
              "      <td>1.0</td>\n",
              "      <td>50.0</td>\n",
              "      <td>110.0</td>\n",
              "      <td>195.0</td>\n",
              "      <td>8.130000e+02</td>\n",
              "    </tr>\n",
              "    <tr>\n",
              "      <th>duration</th>\n",
              "      <td>5028.0</td>\n",
              "      <td>107.2</td>\n",
              "      <td>25.2</td>\n",
              "      <td>7.0</td>\n",
              "      <td>93.0</td>\n",
              "      <td>103.0</td>\n",
              "      <td>118.0</td>\n",
              "      <td>5.110000e+02</td>\n",
              "    </tr>\n",
              "    <tr>\n",
              "      <th>director_facebook_likes</th>\n",
              "      <td>4939.0</td>\n",
              "      <td>686.5</td>\n",
              "      <td>2813.3</td>\n",
              "      <td>0.0</td>\n",
              "      <td>7.0</td>\n",
              "      <td>49.0</td>\n",
              "      <td>194.5</td>\n",
              "      <td>2.300000e+04</td>\n",
              "    </tr>\n",
              "    <tr>\n",
              "      <th>actor_3_facebook_likes</th>\n",
              "      <td>5020.0</td>\n",
              "      <td>645.0</td>\n",
              "      <td>1665.0</td>\n",
              "      <td>0.0</td>\n",
              "      <td>133.0</td>\n",
              "      <td>371.5</td>\n",
              "      <td>636.0</td>\n",
              "      <td>2.300000e+04</td>\n",
              "    </tr>\n",
              "    <tr>\n",
              "      <th>actor_1_facebook_likes</th>\n",
              "      <td>5036.0</td>\n",
              "      <td>6560.0</td>\n",
              "      <td>15020.8</td>\n",
              "      <td>0.0</td>\n",
              "      <td>614.0</td>\n",
              "      <td>988.0</td>\n",
              "      <td>11000.0</td>\n",
              "      <td>6.400000e+05</td>\n",
              "    </tr>\n",
              "    <tr>\n",
              "      <th>gross</th>\n",
              "      <td>4159.0</td>\n",
              "      <td>48468407.5</td>\n",
              "      <td>68452990.4</td>\n",
              "      <td>162.0</td>\n",
              "      <td>5340987.5</td>\n",
              "      <td>25517500.0</td>\n",
              "      <td>62309437.5</td>\n",
              "      <td>7.605058e+08</td>\n",
              "    </tr>\n",
              "    <tr>\n",
              "      <th>num_voted_users</th>\n",
              "      <td>5043.0</td>\n",
              "      <td>83668.2</td>\n",
              "      <td>138485.3</td>\n",
              "      <td>5.0</td>\n",
              "      <td>8593.5</td>\n",
              "      <td>34359.0</td>\n",
              "      <td>96309.0</td>\n",
              "      <td>1.689764e+06</td>\n",
              "    </tr>\n",
              "    <tr>\n",
              "      <th>cast_total_facebook_likes</th>\n",
              "      <td>5043.0</td>\n",
              "      <td>9699.1</td>\n",
              "      <td>18163.8</td>\n",
              "      <td>0.0</td>\n",
              "      <td>1411.0</td>\n",
              "      <td>3090.0</td>\n",
              "      <td>13756.5</td>\n",
              "      <td>6.567300e+05</td>\n",
              "    </tr>\n",
              "    <tr>\n",
              "      <th>facenumber_in_poster</th>\n",
              "      <td>5030.0</td>\n",
              "      <td>1.4</td>\n",
              "      <td>2.0</td>\n",
              "      <td>0.0</td>\n",
              "      <td>0.0</td>\n",
              "      <td>1.0</td>\n",
              "      <td>2.0</td>\n",
              "      <td>4.300000e+01</td>\n",
              "    </tr>\n",
              "    <tr>\n",
              "      <th>num_user_for_reviews</th>\n",
              "      <td>5022.0</td>\n",
              "      <td>272.8</td>\n",
              "      <td>378.0</td>\n",
              "      <td>1.0</td>\n",
              "      <td>65.0</td>\n",
              "      <td>156.0</td>\n",
              "      <td>326.0</td>\n",
              "      <td>5.060000e+03</td>\n",
              "    </tr>\n",
              "    <tr>\n",
              "      <th>budget</th>\n",
              "      <td>4551.0</td>\n",
              "      <td>39752620.4</td>\n",
              "      <td>206114898.4</td>\n",
              "      <td>218.0</td>\n",
              "      <td>6000000.0</td>\n",
              "      <td>20000000.0</td>\n",
              "      <td>45000000.0</td>\n",
              "      <td>1.221550e+10</td>\n",
              "    </tr>\n",
              "    <tr>\n",
              "      <th>title_year</th>\n",
              "      <td>4935.0</td>\n",
              "      <td>2002.5</td>\n",
              "      <td>12.5</td>\n",
              "      <td>1916.0</td>\n",
              "      <td>1999.0</td>\n",
              "      <td>2005.0</td>\n",
              "      <td>2011.0</td>\n",
              "      <td>2.016000e+03</td>\n",
              "    </tr>\n",
              "    <tr>\n",
              "      <th>actor_2_facebook_likes</th>\n",
              "      <td>5030.0</td>\n",
              "      <td>1651.8</td>\n",
              "      <td>4042.4</td>\n",
              "      <td>0.0</td>\n",
              "      <td>281.0</td>\n",
              "      <td>595.0</td>\n",
              "      <td>918.0</td>\n",
              "      <td>1.370000e+05</td>\n",
              "    </tr>\n",
              "    <tr>\n",
              "      <th>imdb_score</th>\n",
              "      <td>5043.0</td>\n",
              "      <td>6.4</td>\n",
              "      <td>1.1</td>\n",
              "      <td>1.6</td>\n",
              "      <td>5.8</td>\n",
              "      <td>6.6</td>\n",
              "      <td>7.2</td>\n",
              "      <td>9.500000e+00</td>\n",
              "    </tr>\n",
              "    <tr>\n",
              "      <th>aspect_ratio</th>\n",
              "      <td>4714.0</td>\n",
              "      <td>2.2</td>\n",
              "      <td>1.4</td>\n",
              "      <td>1.2</td>\n",
              "      <td>1.8</td>\n",
              "      <td>2.4</td>\n",
              "      <td>2.4</td>\n",
              "      <td>1.600000e+01</td>\n",
              "    </tr>\n",
              "    <tr>\n",
              "      <th>movie_facebook_likes</th>\n",
              "      <td>5043.0</td>\n",
              "      <td>7526.0</td>\n",
              "      <td>19320.4</td>\n",
              "      <td>0.0</td>\n",
              "      <td>0.0</td>\n",
              "      <td>166.0</td>\n",
              "      <td>3000.0</td>\n",
              "      <td>3.490000e+05</td>\n",
              "    </tr>\n",
              "  </tbody>\n",
              "</table>\n",
              "</div>"
            ],
            "text/plain": [
              "                            count        mean          std     min        25%  \\\n",
              "num_critic_for_reviews     4993.0       140.2        121.6     1.0       50.0   \n",
              "duration                   5028.0       107.2         25.2     7.0       93.0   \n",
              "director_facebook_likes    4939.0       686.5       2813.3     0.0        7.0   \n",
              "actor_3_facebook_likes     5020.0       645.0       1665.0     0.0      133.0   \n",
              "actor_1_facebook_likes     5036.0      6560.0      15020.8     0.0      614.0   \n",
              "gross                      4159.0  48468407.5   68452990.4   162.0  5340987.5   \n",
              "num_voted_users            5043.0     83668.2     138485.3     5.0     8593.5   \n",
              "cast_total_facebook_likes  5043.0      9699.1      18163.8     0.0     1411.0   \n",
              "facenumber_in_poster       5030.0         1.4          2.0     0.0        0.0   \n",
              "num_user_for_reviews       5022.0       272.8        378.0     1.0       65.0   \n",
              "budget                     4551.0  39752620.4  206114898.4   218.0  6000000.0   \n",
              "title_year                 4935.0      2002.5         12.5  1916.0     1999.0   \n",
              "actor_2_facebook_likes     5030.0      1651.8       4042.4     0.0      281.0   \n",
              "imdb_score                 5043.0         6.4          1.1     1.6        5.8   \n",
              "aspect_ratio               4714.0         2.2          1.4     1.2        1.8   \n",
              "movie_facebook_likes       5043.0      7526.0      19320.4     0.0        0.0   \n",
              "\n",
              "                                  50%         75%           max  \n",
              "num_critic_for_reviews          110.0       195.0  8.130000e+02  \n",
              "duration                        103.0       118.0  5.110000e+02  \n",
              "director_facebook_likes          49.0       194.5  2.300000e+04  \n",
              "actor_3_facebook_likes          371.5       636.0  2.300000e+04  \n",
              "actor_1_facebook_likes          988.0     11000.0  6.400000e+05  \n",
              "gross                      25517500.0  62309437.5  7.605058e+08  \n",
              "num_voted_users               34359.0     96309.0  1.689764e+06  \n",
              "cast_total_facebook_likes      3090.0     13756.5  6.567300e+05  \n",
              "facenumber_in_poster              1.0         2.0  4.300000e+01  \n",
              "num_user_for_reviews            156.0       326.0  5.060000e+03  \n",
              "budget                     20000000.0  45000000.0  1.221550e+10  \n",
              "title_year                     2005.0      2011.0  2.016000e+03  \n",
              "actor_2_facebook_likes          595.0       918.0  1.370000e+05  \n",
              "imdb_score                        6.6         7.2  9.500000e+00  \n",
              "aspect_ratio                      2.4         2.4  1.600000e+01  \n",
              "movie_facebook_likes            166.0      3000.0  3.490000e+05  "
            ]
          },
          "execution_count": 72,
          "metadata": {},
          "output_type": "execute_result"
        }
      ],
      "source": [
        "df.describe().T.round(1)"
      ]
    },
    {
      "cell_type": "code",
      "execution_count": 73,
      "metadata": {
        "id": "pFzTUBgagjbM"
      },
      "outputs": [],
      "source": [
        "numerical_cols = df._get_numeric_data().columns.tolist()"
      ]
    },
    {
      "cell_type": "code",
      "execution_count": 74,
      "metadata": {
        "colab": {
          "base_uri": "https://localhost:8080/"
        },
        "id": "v6kfm2xxgjbM",
        "outputId": "eb42804f-c57e-4b6e-fca4-2c96512d7d74"
      },
      "outputs": [
        {
          "data": {
            "text/plain": [
              "['num_critic_for_reviews',\n",
              " 'duration',\n",
              " 'director_facebook_likes',\n",
              " 'actor_3_facebook_likes',\n",
              " 'actor_1_facebook_likes',\n",
              " 'gross',\n",
              " 'num_voted_users',\n",
              " 'cast_total_facebook_likes',\n",
              " 'facenumber_in_poster',\n",
              " 'num_user_for_reviews',\n",
              " 'budget',\n",
              " 'title_year',\n",
              " 'actor_2_facebook_likes',\n",
              " 'imdb_score',\n",
              " 'aspect_ratio',\n",
              " 'movie_facebook_likes']"
            ]
          },
          "execution_count": 74,
          "metadata": {},
          "output_type": "execute_result"
        }
      ],
      "source": [
        "numerical_cols"
      ]
    },
    {
      "cell_type": "code",
      "execution_count": 75,
      "metadata": {
        "colab": {
          "base_uri": "https://localhost:8080/"
        },
        "id": "mZuehp1PgjbN",
        "outputId": "4b276f1b-4984-4488-cfd6-5b60cc065604"
      },
      "outputs": [
        {
          "data": {
            "text/plain": [
              "['actor_3_facebook_likes',\n",
              " 'facenumber_in_poster',\n",
              " 'actor_1_facebook_likes',\n",
              " 'duration',\n",
              " 'title_year',\n",
              " 'movie_facebook_likes',\n",
              " 'num_user_for_reviews',\n",
              " 'actor_2_facebook_likes',\n",
              " 'aspect_ratio',\n",
              " 'budget',\n",
              " 'director_facebook_likes',\n",
              " 'num_critic_for_reviews',\n",
              " 'cast_total_facebook_likes',\n",
              " 'gross',\n",
              " 'num_voted_users']"
            ]
          },
          "execution_count": 75,
          "metadata": {},
          "output_type": "execute_result"
        }
      ],
      "source": [
        "numerical_features=list(set(numerical_cols)-set(['imdb_score']))\n",
        "numerical_features"
      ]
    },
    {
      "cell_type": "code",
      "execution_count": 76,
      "metadata": {
        "id": "nSQxeAw-gjbN"
      },
      "outputs": [],
      "source": [
        "numerical_cols=numerical_features.copy()\n",
        "numerical_cols.append('imdb_score')"
      ]
    },
    {
      "cell_type": "code",
      "execution_count": 77,
      "metadata": {
        "colab": {
          "base_uri": "https://localhost:8080/"
        },
        "id": "mNv_NlOigjbN",
        "outputId": "5360e6a5-d4ce-4035-9191-e3a794b8c614"
      },
      "outputs": [
        {
          "data": {
            "text/plain": [
              "['actor_3_facebook_likes',\n",
              " 'facenumber_in_poster',\n",
              " 'actor_1_facebook_likes',\n",
              " 'duration',\n",
              " 'title_year',\n",
              " 'movie_facebook_likes',\n",
              " 'num_user_for_reviews',\n",
              " 'actor_2_facebook_likes',\n",
              " 'aspect_ratio',\n",
              " 'budget',\n",
              " 'director_facebook_likes',\n",
              " 'num_critic_for_reviews',\n",
              " 'cast_total_facebook_likes',\n",
              " 'gross',\n",
              " 'num_voted_users',\n",
              " 'imdb_score']"
            ]
          },
          "execution_count": 77,
          "metadata": {},
          "output_type": "execute_result"
        }
      ],
      "source": [
        "numerical_cols"
      ]
    },
    {
      "cell_type": "code",
      "execution_count": 78,
      "metadata": {
        "colab": {
          "base_uri": "https://localhost:8080/"
        },
        "id": "wx7mHIJlgjbO",
        "outputId": "7b93f069-de4b-42c6-a343-c057eb472be9"
      },
      "outputs": [
        {
          "data": {
            "text/plain": [
              "['plot_keywords',\n",
              " 'actor_1_name',\n",
              " 'director_name',\n",
              " 'actor_3_name',\n",
              " 'movie_imdb_link',\n",
              " 'movie_title',\n",
              " 'actor_2_name',\n",
              " 'country',\n",
              " 'genres',\n",
              " 'language',\n",
              " 'content_rating']"
            ]
          },
          "execution_count": 78,
          "metadata": {},
          "output_type": "execute_result"
        }
      ],
      "source": [
        "categorical_features=list(set(df.columns.tolist())-set(numerical_cols))\n",
        "categorical_features"
      ]
    },
    {
      "cell_type": "code",
      "execution_count": 79,
      "metadata": {
        "colab": {
          "base_uri": "https://localhost:8080/",
          "height": 489
        },
        "id": "i0r0IB7egjbO",
        "outputId": "b5e60671-2d0b-4c5e-fc05-e2be2d3d2cac"
      },
      "outputs": [
        {
          "data": {
            "text/plain": [
              "country\n",
              "USA              3807\n",
              "UK                448\n",
              "France            154\n",
              "Canada            126\n",
              "Germany            97\n",
              "                 ... \n",
              "Slovakia            1\n",
              "Chile               1\n",
              "Cambodia            1\n",
              "Official site       1\n",
              "Philippines         1\n",
              "Name: count, Length: 65, dtype: int64"
            ]
          },
          "execution_count": 79,
          "metadata": {},
          "output_type": "execute_result"
        }
      ],
      "source": [
        "df['country'].value_counts()"
      ]
    },
    {
      "cell_type": "code",
      "execution_count": 80,
      "metadata": {
        "colab": {
          "base_uri": "https://localhost:8080/",
          "height": 394
        },
        "id": "Q3aqk63agjbO",
        "outputId": "1939d8cd-c671-43f9-b87b-f1ce9923023a"
      },
      "outputs": [
        {
          "data": {
            "text/html": [
              "<div>\n",
              "<style scoped>\n",
              "    .dataframe tbody tr th:only-of-type {\n",
              "        vertical-align: middle;\n",
              "    }\n",
              "\n",
              "    .dataframe tbody tr th {\n",
              "        vertical-align: top;\n",
              "    }\n",
              "\n",
              "    .dataframe thead th {\n",
              "        text-align: right;\n",
              "    }\n",
              "</style>\n",
              "<table border=\"1\" class=\"dataframe\">\n",
              "  <thead>\n",
              "    <tr style=\"text-align: right;\">\n",
              "      <th></th>\n",
              "      <th>count</th>\n",
              "      <th>unique</th>\n",
              "      <th>top</th>\n",
              "      <th>freq</th>\n",
              "    </tr>\n",
              "  </thead>\n",
              "  <tbody>\n",
              "    <tr>\n",
              "      <th>director_name</th>\n",
              "      <td>4939</td>\n",
              "      <td>2398</td>\n",
              "      <td>Steven Spielberg</td>\n",
              "      <td>26</td>\n",
              "    </tr>\n",
              "    <tr>\n",
              "      <th>actor_2_name</th>\n",
              "      <td>5030</td>\n",
              "      <td>3032</td>\n",
              "      <td>Morgan Freeman</td>\n",
              "      <td>20</td>\n",
              "    </tr>\n",
              "    <tr>\n",
              "      <th>genres</th>\n",
              "      <td>5043</td>\n",
              "      <td>914</td>\n",
              "      <td>Drama</td>\n",
              "      <td>236</td>\n",
              "    </tr>\n",
              "    <tr>\n",
              "      <th>actor_1_name</th>\n",
              "      <td>5036</td>\n",
              "      <td>2097</td>\n",
              "      <td>Robert De Niro</td>\n",
              "      <td>49</td>\n",
              "    </tr>\n",
              "    <tr>\n",
              "      <th>movie_title</th>\n",
              "      <td>5043</td>\n",
              "      <td>4917</td>\n",
              "      <td>Ben-Hur</td>\n",
              "      <td>3</td>\n",
              "    </tr>\n",
              "    <tr>\n",
              "      <th>actor_3_name</th>\n",
              "      <td>5020</td>\n",
              "      <td>3521</td>\n",
              "      <td>John Heard</td>\n",
              "      <td>8</td>\n",
              "    </tr>\n",
              "    <tr>\n",
              "      <th>plot_keywords</th>\n",
              "      <td>4890</td>\n",
              "      <td>4760</td>\n",
              "      <td>based on novel</td>\n",
              "      <td>4</td>\n",
              "    </tr>\n",
              "    <tr>\n",
              "      <th>movie_imdb_link</th>\n",
              "      <td>5043</td>\n",
              "      <td>4919</td>\n",
              "      <td>http://www.imdb.com/title/tt0232500/?ref_=fn_t...</td>\n",
              "      <td>3</td>\n",
              "    </tr>\n",
              "    <tr>\n",
              "      <th>language</th>\n",
              "      <td>5029</td>\n",
              "      <td>46</td>\n",
              "      <td>English</td>\n",
              "      <td>4704</td>\n",
              "    </tr>\n",
              "    <tr>\n",
              "      <th>country</th>\n",
              "      <td>5038</td>\n",
              "      <td>65</td>\n",
              "      <td>USA</td>\n",
              "      <td>3807</td>\n",
              "    </tr>\n",
              "    <tr>\n",
              "      <th>content_rating</th>\n",
              "      <td>4740</td>\n",
              "      <td>18</td>\n",
              "      <td>R</td>\n",
              "      <td>2118</td>\n",
              "    </tr>\n",
              "  </tbody>\n",
              "</table>\n",
              "</div>"
            ],
            "text/plain": [
              "                count unique  \\\n",
              "director_name    4939   2398   \n",
              "actor_2_name     5030   3032   \n",
              "genres           5043    914   \n",
              "actor_1_name     5036   2097   \n",
              "movie_title      5043   4917   \n",
              "actor_3_name     5020   3521   \n",
              "plot_keywords    4890   4760   \n",
              "movie_imdb_link  5043   4919   \n",
              "language         5029     46   \n",
              "country          5038     65   \n",
              "content_rating   4740     18   \n",
              "\n",
              "                                                               top  freq  \n",
              "director_name                                     Steven Spielberg    26  \n",
              "actor_2_name                                        Morgan Freeman    20  \n",
              "genres                                                       Drama   236  \n",
              "actor_1_name                                        Robert De Niro    49  \n",
              "movie_title                                               Ben-Hur      3  \n",
              "actor_3_name                                            John Heard     8  \n",
              "plot_keywords                                       based on novel     4  \n",
              "movie_imdb_link  http://www.imdb.com/title/tt0232500/?ref_=fn_t...     3  \n",
              "language                                                   English  4704  \n",
              "country                                                        USA  3807  \n",
              "content_rating                                                   R  2118  "
            ]
          },
          "execution_count": 80,
          "metadata": {},
          "output_type": "execute_result"
        }
      ],
      "source": [
        "df.describe(exclude=np.number).T"
      ]
    },
    {
      "cell_type": "code",
      "execution_count": 81,
      "metadata": {
        "id": "aKQRfufWgjbP"
      },
      "outputs": [],
      "source": [
        "df_nums = df[numerical_cols]"
      ]
    },
    {
      "cell_type": "code",
      "execution_count": 82,
      "metadata": {
        "colab": {
          "base_uri": "https://localhost:8080/",
          "height": 226
        },
        "id": "RMeo0XkSgjbR",
        "outputId": "7ab55910-af1f-4c4c-bbfa-33649ad00a18"
      },
      "outputs": [
        {
          "data": {
            "text/html": [
              "<div>\n",
              "<style scoped>\n",
              "    .dataframe tbody tr th:only-of-type {\n",
              "        vertical-align: middle;\n",
              "    }\n",
              "\n",
              "    .dataframe tbody tr th {\n",
              "        vertical-align: top;\n",
              "    }\n",
              "\n",
              "    .dataframe thead th {\n",
              "        text-align: right;\n",
              "    }\n",
              "</style>\n",
              "<table border=\"1\" class=\"dataframe\">\n",
              "  <thead>\n",
              "    <tr style=\"text-align: right;\">\n",
              "      <th></th>\n",
              "      <th>actor_3_facebook_likes</th>\n",
              "      <th>facenumber_in_poster</th>\n",
              "      <th>actor_1_facebook_likes</th>\n",
              "      <th>duration</th>\n",
              "      <th>title_year</th>\n",
              "      <th>movie_facebook_likes</th>\n",
              "      <th>num_user_for_reviews</th>\n",
              "      <th>actor_2_facebook_likes</th>\n",
              "      <th>aspect_ratio</th>\n",
              "      <th>budget</th>\n",
              "      <th>director_facebook_likes</th>\n",
              "      <th>num_critic_for_reviews</th>\n",
              "      <th>cast_total_facebook_likes</th>\n",
              "      <th>gross</th>\n",
              "      <th>num_voted_users</th>\n",
              "      <th>imdb_score</th>\n",
              "    </tr>\n",
              "  </thead>\n",
              "  <tbody>\n",
              "    <tr>\n",
              "      <th>0</th>\n",
              "      <td>855.0</td>\n",
              "      <td>0.0</td>\n",
              "      <td>1000.0</td>\n",
              "      <td>178.0</td>\n",
              "      <td>2009.0</td>\n",
              "      <td>33000</td>\n",
              "      <td>3054.0</td>\n",
              "      <td>936.0</td>\n",
              "      <td>1.78</td>\n",
              "      <td>237000000.0</td>\n",
              "      <td>0.0</td>\n",
              "      <td>723.0</td>\n",
              "      <td>4834</td>\n",
              "      <td>760505847.0</td>\n",
              "      <td>886204</td>\n",
              "      <td>7.9</td>\n",
              "    </tr>\n",
              "    <tr>\n",
              "      <th>1</th>\n",
              "      <td>1000.0</td>\n",
              "      <td>0.0</td>\n",
              "      <td>40000.0</td>\n",
              "      <td>169.0</td>\n",
              "      <td>2007.0</td>\n",
              "      <td>0</td>\n",
              "      <td>1238.0</td>\n",
              "      <td>5000.0</td>\n",
              "      <td>2.35</td>\n",
              "      <td>300000000.0</td>\n",
              "      <td>563.0</td>\n",
              "      <td>302.0</td>\n",
              "      <td>48350</td>\n",
              "      <td>309404152.0</td>\n",
              "      <td>471220</td>\n",
              "      <td>7.1</td>\n",
              "    </tr>\n",
              "    <tr>\n",
              "      <th>2</th>\n",
              "      <td>161.0</td>\n",
              "      <td>1.0</td>\n",
              "      <td>11000.0</td>\n",
              "      <td>148.0</td>\n",
              "      <td>2015.0</td>\n",
              "      <td>85000</td>\n",
              "      <td>994.0</td>\n",
              "      <td>393.0</td>\n",
              "      <td>2.35</td>\n",
              "      <td>245000000.0</td>\n",
              "      <td>0.0</td>\n",
              "      <td>602.0</td>\n",
              "      <td>11700</td>\n",
              "      <td>200074175.0</td>\n",
              "      <td>275868</td>\n",
              "      <td>6.8</td>\n",
              "    </tr>\n",
              "    <tr>\n",
              "      <th>3</th>\n",
              "      <td>23000.0</td>\n",
              "      <td>0.0</td>\n",
              "      <td>27000.0</td>\n",
              "      <td>164.0</td>\n",
              "      <td>2012.0</td>\n",
              "      <td>164000</td>\n",
              "      <td>2701.0</td>\n",
              "      <td>23000.0</td>\n",
              "      <td>2.35</td>\n",
              "      <td>250000000.0</td>\n",
              "      <td>22000.0</td>\n",
              "      <td>813.0</td>\n",
              "      <td>106759</td>\n",
              "      <td>448130642.0</td>\n",
              "      <td>1144337</td>\n",
              "      <td>8.5</td>\n",
              "    </tr>\n",
              "    <tr>\n",
              "      <th>4</th>\n",
              "      <td>NaN</td>\n",
              "      <td>0.0</td>\n",
              "      <td>131.0</td>\n",
              "      <td>NaN</td>\n",
              "      <td>NaN</td>\n",
              "      <td>0</td>\n",
              "      <td>NaN</td>\n",
              "      <td>12.0</td>\n",
              "      <td>NaN</td>\n",
              "      <td>NaN</td>\n",
              "      <td>131.0</td>\n",
              "      <td>NaN</td>\n",
              "      <td>143</td>\n",
              "      <td>NaN</td>\n",
              "      <td>8</td>\n",
              "      <td>7.1</td>\n",
              "    </tr>\n",
              "  </tbody>\n",
              "</table>\n",
              "</div>"
            ],
            "text/plain": [
              "   actor_3_facebook_likes  facenumber_in_poster  actor_1_facebook_likes  \\\n",
              "0                   855.0                   0.0                  1000.0   \n",
              "1                  1000.0                   0.0                 40000.0   \n",
              "2                   161.0                   1.0                 11000.0   \n",
              "3                 23000.0                   0.0                 27000.0   \n",
              "4                     NaN                   0.0                   131.0   \n",
              "\n",
              "   duration  title_year  movie_facebook_likes  num_user_for_reviews  \\\n",
              "0     178.0      2009.0                 33000                3054.0   \n",
              "1     169.0      2007.0                     0                1238.0   \n",
              "2     148.0      2015.0                 85000                 994.0   \n",
              "3     164.0      2012.0                164000                2701.0   \n",
              "4       NaN         NaN                     0                   NaN   \n",
              "\n",
              "   actor_2_facebook_likes  aspect_ratio       budget  director_facebook_likes  \\\n",
              "0                   936.0          1.78  237000000.0                      0.0   \n",
              "1                  5000.0          2.35  300000000.0                    563.0   \n",
              "2                   393.0          2.35  245000000.0                      0.0   \n",
              "3                 23000.0          2.35  250000000.0                  22000.0   \n",
              "4                    12.0           NaN          NaN                    131.0   \n",
              "\n",
              "   num_critic_for_reviews  cast_total_facebook_likes        gross  \\\n",
              "0                   723.0                       4834  760505847.0   \n",
              "1                   302.0                      48350  309404152.0   \n",
              "2                   602.0                      11700  200074175.0   \n",
              "3                   813.0                     106759  448130642.0   \n",
              "4                     NaN                        143          NaN   \n",
              "\n",
              "   num_voted_users  imdb_score  \n",
              "0           886204         7.9  \n",
              "1           471220         7.1  \n",
              "2           275868         6.8  \n",
              "3          1144337         8.5  \n",
              "4                8         7.1  "
            ]
          },
          "execution_count": 82,
          "metadata": {},
          "output_type": "execute_result"
        }
      ],
      "source": [
        "df_nums.head()"
      ]
    },
    {
      "cell_type": "code",
      "execution_count": 83,
      "metadata": {
        "colab": {
          "base_uri": "https://localhost:8080/"
        },
        "id": "q06Xb4wMgjbS",
        "outputId": "550bec45-b97b-461d-be63-b01296f6fa11"
      },
      "outputs": [
        {
          "name": "stdout",
          "output_type": "stream",
          "text": [
            "<class 'pandas.core.frame.DataFrame'>\n",
            "RangeIndex: 5043 entries, 0 to 5042\n",
            "Data columns (total 16 columns):\n",
            " #   Column                     Non-Null Count  Dtype  \n",
            "---  ------                     --------------  -----  \n",
            " 0   actor_3_facebook_likes     5020 non-null   float64\n",
            " 1   facenumber_in_poster       5030 non-null   float64\n",
            " 2   actor_1_facebook_likes     5036 non-null   float64\n",
            " 3   duration                   5028 non-null   float64\n",
            " 4   title_year                 4935 non-null   float64\n",
            " 5   movie_facebook_likes       5043 non-null   int64  \n",
            " 6   num_user_for_reviews       5022 non-null   float64\n",
            " 7   actor_2_facebook_likes     5030 non-null   float64\n",
            " 8   aspect_ratio               4714 non-null   float64\n",
            " 9   budget                     4551 non-null   float64\n",
            " 10  director_facebook_likes    4939 non-null   float64\n",
            " 11  num_critic_for_reviews     4993 non-null   float64\n",
            " 12  cast_total_facebook_likes  5043 non-null   int64  \n",
            " 13  gross                      4159 non-null   float64\n",
            " 14  num_voted_users            5043 non-null   int64  \n",
            " 15  imdb_score                 5043 non-null   float64\n",
            "dtypes: float64(13), int64(3)\n",
            "memory usage: 630.5 KB\n"
          ]
        }
      ],
      "source": [
        "df_nums.info()"
      ]
    },
    {
      "cell_type": "code",
      "execution_count": 84,
      "metadata": {
        "colab": {
          "base_uri": "https://localhost:8080/",
          "height": 585
        },
        "id": "N8Cs1CyOgjbS",
        "outputId": "4254bbc9-50c9-4d62-ad4d-73f3c9f9faef"
      },
      "outputs": [
        {
          "data": {
            "text/plain": [
              "gross                        17.529248\n",
              "budget                        9.756098\n",
              "aspect_ratio                  6.523895\n",
              "title_year                    2.141582\n",
              "director_facebook_likes       2.062265\n",
              "num_critic_for_reviews        0.991473\n",
              "actor_3_facebook_likes        0.456078\n",
              "num_user_for_reviews          0.416419\n",
              "duration                      0.297442\n",
              "facenumber_in_poster          0.257783\n",
              "actor_2_facebook_likes        0.257783\n",
              "actor_1_facebook_likes        0.138806\n",
              "movie_facebook_likes          0.000000\n",
              "cast_total_facebook_likes     0.000000\n",
              "num_voted_users               0.000000\n",
              "imdb_score                    0.000000\n",
              "dtype: float64"
            ]
          },
          "execution_count": 84,
          "metadata": {},
          "output_type": "execute_result"
        }
      ],
      "source": [
        "#Check missing values\n",
        "(df_nums.isnull().sum()*100/len(df_nums)).sort_values(ascending=False)"
      ]
    },
    {
      "cell_type": "code",
      "execution_count": 85,
      "metadata": {
        "colab": {
          "base_uri": "https://localhost:8080/",
          "height": 571
        },
        "id": "pI4ENWSbgjbS",
        "outputId": "76d25b2e-8a7f-4fe5-c2f0-e60d64653541"
      },
      "outputs": [
        {
          "data": {
            "text/html": [
              "<div>\n",
              "<style scoped>\n",
              "    .dataframe tbody tr th:only-of-type {\n",
              "        vertical-align: middle;\n",
              "    }\n",
              "\n",
              "    .dataframe tbody tr th {\n",
              "        vertical-align: top;\n",
              "    }\n",
              "\n",
              "    .dataframe thead th {\n",
              "        text-align: right;\n",
              "    }\n",
              "</style>\n",
              "<table border=\"1\" class=\"dataframe\">\n",
              "  <thead>\n",
              "    <tr style=\"text-align: right;\">\n",
              "      <th></th>\n",
              "      <th>count</th>\n",
              "      <th>mean</th>\n",
              "      <th>std</th>\n",
              "      <th>min</th>\n",
              "      <th>25%</th>\n",
              "      <th>50%</th>\n",
              "      <th>75%</th>\n",
              "      <th>max</th>\n",
              "    </tr>\n",
              "  </thead>\n",
              "  <tbody>\n",
              "    <tr>\n",
              "      <th>actor_3_facebook_likes</th>\n",
              "      <td>5020.0</td>\n",
              "      <td>645.01</td>\n",
              "      <td>1.665040e+03</td>\n",
              "      <td>0.00</td>\n",
              "      <td>133.00</td>\n",
              "      <td>371.50</td>\n",
              "      <td>636.00</td>\n",
              "      <td>2.300000e+04</td>\n",
              "    </tr>\n",
              "    <tr>\n",
              "      <th>facenumber_in_poster</th>\n",
              "      <td>5030.0</td>\n",
              "      <td>1.37</td>\n",
              "      <td>2.010000e+00</td>\n",
              "      <td>0.00</td>\n",
              "      <td>0.00</td>\n",
              "      <td>1.00</td>\n",
              "      <td>2.00</td>\n",
              "      <td>4.300000e+01</td>\n",
              "    </tr>\n",
              "    <tr>\n",
              "      <th>actor_1_facebook_likes</th>\n",
              "      <td>5036.0</td>\n",
              "      <td>6560.05</td>\n",
              "      <td>1.502076e+04</td>\n",
              "      <td>0.00</td>\n",
              "      <td>614.00</td>\n",
              "      <td>988.00</td>\n",
              "      <td>11000.00</td>\n",
              "      <td>6.400000e+05</td>\n",
              "    </tr>\n",
              "    <tr>\n",
              "      <th>duration</th>\n",
              "      <td>5028.0</td>\n",
              "      <td>107.20</td>\n",
              "      <td>2.520000e+01</td>\n",
              "      <td>7.00</td>\n",
              "      <td>93.00</td>\n",
              "      <td>103.00</td>\n",
              "      <td>118.00</td>\n",
              "      <td>5.110000e+02</td>\n",
              "    </tr>\n",
              "    <tr>\n",
              "      <th>title_year</th>\n",
              "      <td>4935.0</td>\n",
              "      <td>2002.47</td>\n",
              "      <td>1.247000e+01</td>\n",
              "      <td>1916.00</td>\n",
              "      <td>1999.00</td>\n",
              "      <td>2005.00</td>\n",
              "      <td>2011.00</td>\n",
              "      <td>2.016000e+03</td>\n",
              "    </tr>\n",
              "    <tr>\n",
              "      <th>movie_facebook_likes</th>\n",
              "      <td>5043.0</td>\n",
              "      <td>7525.96</td>\n",
              "      <td>1.932045e+04</td>\n",
              "      <td>0.00</td>\n",
              "      <td>0.00</td>\n",
              "      <td>166.00</td>\n",
              "      <td>3000.00</td>\n",
              "      <td>3.490000e+05</td>\n",
              "    </tr>\n",
              "    <tr>\n",
              "      <th>num_user_for_reviews</th>\n",
              "      <td>5022.0</td>\n",
              "      <td>272.77</td>\n",
              "      <td>3.779800e+02</td>\n",
              "      <td>1.00</td>\n",
              "      <td>65.00</td>\n",
              "      <td>156.00</td>\n",
              "      <td>326.00</td>\n",
              "      <td>5.060000e+03</td>\n",
              "    </tr>\n",
              "    <tr>\n",
              "      <th>actor_2_facebook_likes</th>\n",
              "      <td>5030.0</td>\n",
              "      <td>1651.75</td>\n",
              "      <td>4.042440e+03</td>\n",
              "      <td>0.00</td>\n",
              "      <td>281.00</td>\n",
              "      <td>595.00</td>\n",
              "      <td>918.00</td>\n",
              "      <td>1.370000e+05</td>\n",
              "    </tr>\n",
              "    <tr>\n",
              "      <th>aspect_ratio</th>\n",
              "      <td>4714.0</td>\n",
              "      <td>2.22</td>\n",
              "      <td>1.390000e+00</td>\n",
              "      <td>1.18</td>\n",
              "      <td>1.85</td>\n",
              "      <td>2.35</td>\n",
              "      <td>2.35</td>\n",
              "      <td>1.600000e+01</td>\n",
              "    </tr>\n",
              "    <tr>\n",
              "      <th>budget</th>\n",
              "      <td>4551.0</td>\n",
              "      <td>39752620.44</td>\n",
              "      <td>2.061149e+08</td>\n",
              "      <td>218.00</td>\n",
              "      <td>6000000.00</td>\n",
              "      <td>20000000.00</td>\n",
              "      <td>45000000.00</td>\n",
              "      <td>1.221550e+10</td>\n",
              "    </tr>\n",
              "    <tr>\n",
              "      <th>director_facebook_likes</th>\n",
              "      <td>4939.0</td>\n",
              "      <td>686.51</td>\n",
              "      <td>2.813330e+03</td>\n",
              "      <td>0.00</td>\n",
              "      <td>7.00</td>\n",
              "      <td>49.00</td>\n",
              "      <td>194.50</td>\n",
              "      <td>2.300000e+04</td>\n",
              "    </tr>\n",
              "    <tr>\n",
              "      <th>num_critic_for_reviews</th>\n",
              "      <td>4993.0</td>\n",
              "      <td>140.19</td>\n",
              "      <td>1.216000e+02</td>\n",
              "      <td>1.00</td>\n",
              "      <td>50.00</td>\n",
              "      <td>110.00</td>\n",
              "      <td>195.00</td>\n",
              "      <td>8.130000e+02</td>\n",
              "    </tr>\n",
              "    <tr>\n",
              "      <th>cast_total_facebook_likes</th>\n",
              "      <td>5043.0</td>\n",
              "      <td>9699.06</td>\n",
              "      <td>1.816380e+04</td>\n",
              "      <td>0.00</td>\n",
              "      <td>1411.00</td>\n",
              "      <td>3090.00</td>\n",
              "      <td>13756.50</td>\n",
              "      <td>6.567300e+05</td>\n",
              "    </tr>\n",
              "    <tr>\n",
              "      <th>gross</th>\n",
              "      <td>4159.0</td>\n",
              "      <td>48468407.53</td>\n",
              "      <td>6.845299e+07</td>\n",
              "      <td>162.00</td>\n",
              "      <td>5340987.50</td>\n",
              "      <td>25517500.00</td>\n",
              "      <td>62309437.50</td>\n",
              "      <td>7.605058e+08</td>\n",
              "    </tr>\n",
              "    <tr>\n",
              "      <th>num_voted_users</th>\n",
              "      <td>5043.0</td>\n",
              "      <td>83668.16</td>\n",
              "      <td>1.384853e+05</td>\n",
              "      <td>5.00</td>\n",
              "      <td>8593.50</td>\n",
              "      <td>34359.00</td>\n",
              "      <td>96309.00</td>\n",
              "      <td>1.689764e+06</td>\n",
              "    </tr>\n",
              "    <tr>\n",
              "      <th>imdb_score</th>\n",
              "      <td>5043.0</td>\n",
              "      <td>6.44</td>\n",
              "      <td>1.130000e+00</td>\n",
              "      <td>1.60</td>\n",
              "      <td>5.80</td>\n",
              "      <td>6.60</td>\n",
              "      <td>7.20</td>\n",
              "      <td>9.500000e+00</td>\n",
              "    </tr>\n",
              "  </tbody>\n",
              "</table>\n",
              "</div>"
            ],
            "text/plain": [
              "                            count         mean           std      min  \\\n",
              "actor_3_facebook_likes     5020.0       645.01  1.665040e+03     0.00   \n",
              "facenumber_in_poster       5030.0         1.37  2.010000e+00     0.00   \n",
              "actor_1_facebook_likes     5036.0      6560.05  1.502076e+04     0.00   \n",
              "duration                   5028.0       107.20  2.520000e+01     7.00   \n",
              "title_year                 4935.0      2002.47  1.247000e+01  1916.00   \n",
              "movie_facebook_likes       5043.0      7525.96  1.932045e+04     0.00   \n",
              "num_user_for_reviews       5022.0       272.77  3.779800e+02     1.00   \n",
              "actor_2_facebook_likes     5030.0      1651.75  4.042440e+03     0.00   \n",
              "aspect_ratio               4714.0         2.22  1.390000e+00     1.18   \n",
              "budget                     4551.0  39752620.44  2.061149e+08   218.00   \n",
              "director_facebook_likes    4939.0       686.51  2.813330e+03     0.00   \n",
              "num_critic_for_reviews     4993.0       140.19  1.216000e+02     1.00   \n",
              "cast_total_facebook_likes  5043.0      9699.06  1.816380e+04     0.00   \n",
              "gross                      4159.0  48468407.53  6.845299e+07   162.00   \n",
              "num_voted_users            5043.0     83668.16  1.384853e+05     5.00   \n",
              "imdb_score                 5043.0         6.44  1.130000e+00     1.60   \n",
              "\n",
              "                                  25%          50%          75%           max  \n",
              "actor_3_facebook_likes         133.00       371.50       636.00  2.300000e+04  \n",
              "facenumber_in_poster             0.00         1.00         2.00  4.300000e+01  \n",
              "actor_1_facebook_likes         614.00       988.00     11000.00  6.400000e+05  \n",
              "duration                        93.00       103.00       118.00  5.110000e+02  \n",
              "title_year                    1999.00      2005.00      2011.00  2.016000e+03  \n",
              "movie_facebook_likes             0.00       166.00      3000.00  3.490000e+05  \n",
              "num_user_for_reviews            65.00       156.00       326.00  5.060000e+03  \n",
              "actor_2_facebook_likes         281.00       595.00       918.00  1.370000e+05  \n",
              "aspect_ratio                     1.85         2.35         2.35  1.600000e+01  \n",
              "budget                     6000000.00  20000000.00  45000000.00  1.221550e+10  \n",
              "director_facebook_likes          7.00        49.00       194.50  2.300000e+04  \n",
              "num_critic_for_reviews          50.00       110.00       195.00  8.130000e+02  \n",
              "cast_total_facebook_likes     1411.00      3090.00     13756.50  6.567300e+05  \n",
              "gross                      5340987.50  25517500.00  62309437.50  7.605058e+08  \n",
              "num_voted_users               8593.50     34359.00     96309.00  1.689764e+06  \n",
              "imdb_score                       5.80         6.60         7.20  9.500000e+00  "
            ]
          },
          "execution_count": 85,
          "metadata": {},
          "output_type": "execute_result"
        }
      ],
      "source": [
        "df_nums.describe().round(2).T"
      ]
    },
    {
      "cell_type": "code",
      "execution_count": 86,
      "metadata": {
        "colab": {
          "base_uri": "https://localhost:8080/",
          "height": 748
        },
        "id": "hcYuiRWegjbT",
        "outputId": "ed41b433-c01d-468b-a05a-39c06078742d"
      },
      "outputs": [
        {
          "data": {
            "text/plain": [
              "array([[<Axes: title={'center': 'actor_3_facebook_likes'}>,\n",
              "        <Axes: title={'center': 'facenumber_in_poster'}>,\n",
              "        <Axes: title={'center': 'actor_1_facebook_likes'}>,\n",
              "        <Axes: title={'center': 'duration'}>],\n",
              "       [<Axes: title={'center': 'title_year'}>,\n",
              "        <Axes: title={'center': 'movie_facebook_likes'}>,\n",
              "        <Axes: title={'center': 'num_user_for_reviews'}>,\n",
              "        <Axes: title={'center': 'actor_2_facebook_likes'}>],\n",
              "       [<Axes: title={'center': 'aspect_ratio'}>,\n",
              "        <Axes: title={'center': 'budget'}>,\n",
              "        <Axes: title={'center': 'director_facebook_likes'}>,\n",
              "        <Axes: title={'center': 'num_critic_for_reviews'}>],\n",
              "       [<Axes: title={'center': 'cast_total_facebook_likes'}>,\n",
              "        <Axes: title={'center': 'gross'}>,\n",
              "        <Axes: title={'center': 'num_voted_users'}>,\n",
              "        <Axes: title={'center': 'imdb_score'}>]], dtype=object)"
            ]
          },
          "execution_count": 86,
          "metadata": {},
          "output_type": "execute_result"
        },
        {
          "data": {
            "image/png": "[encoded data removed]",
            "text/plain": [
              "<Figure size 640x480 with 16 Axes>"
            ]
          },
          "metadata": {},
          "output_type": "display_data"
        }
      ],
      "source": [
        "df_nums.hist(bins=20)"
      ]
    },
    {
      "cell_type": "code",
      "execution_count": 87,
      "metadata": {
        "colab": {
          "base_uri": "https://localhost:8080/",
          "height": 585
        },
        "id": "GYoKQWVogjbT",
        "outputId": "151fd2f5-c76d-4c5b-d673-a2f7223c0633"
      },
      "outputs": [
        {
          "data": {
            "text/plain": [
              "title_year                   -2.292273\n",
              "imdb_score                   -0.741471\n",
              "num_critic_for_reviews        1.516533\n",
              "duration                      2.339134\n",
              "gross                         3.127204\n",
              "num_voted_users               4.029871\n",
              "num_user_for_reviews          4.121475\n",
              "facenumber_in_poster          4.384766\n",
              "movie_facebook_likes          5.058927\n",
              "director_facebook_likes       5.229701\n",
              "actor_3_facebook_likes        7.279021\n",
              "aspect_ratio                  9.390056\n",
              "actor_2_facebook_likes        9.884733\n",
              "cast_total_facebook_likes    12.831928\n",
              "actor_1_facebook_likes       19.121776\n",
              "budget                       48.157435\n",
              "dtype: float64"
            ]
          },
          "execution_count": 87,
          "metadata": {},
          "output_type": "execute_result"
        }
      ],
      "source": [
        "#The variables with skewness > 1 such as wheelbase, compressionratio, horsepower, price are highly positively skewed.\n",
        "#The variables with skewness < -1 are highly negatively skewed.\n",
        "#The variables with 0.5 < skewness < 1 such as carwidth, curbweight, citympg are moderately positively skewed.\n",
        "# The variables with -0.5 < skewness < -1 such as stroke are moderately negatively skewed.\n",
        "# And, the variables with -0.5 < skewness < 0.5 are symmetric i.e normally distributed such as symboling, carheight, boreration, peakrpm, highwaympg.\n",
        "df_nums.skew().sort_values()"
      ]
    },
    {
      "cell_type": "markdown",
      "metadata": {
        "id": "s9gUHZdCgjbU"
      },
      "source": [
        "#### Preprocess Data"
      ]
    },
    {
      "cell_type": "code",
      "execution_count": 88,
      "metadata": {
        "colab": {
          "base_uri": "https://localhost:8080/",
          "height": 585
        },
        "id": "_eERFNQ4gjbU",
        "outputId": "ab93e82e-889f-45d2-ca79-ed4d18bdbb98"
      },
      "outputs": [
        {
          "data": {
            "text/plain": [
              "actor_3_facebook_likes        23\n",
              "facenumber_in_poster          13\n",
              "actor_1_facebook_likes         7\n",
              "duration                      15\n",
              "title_year                   108\n",
              "movie_facebook_likes           0\n",
              "num_user_for_reviews          21\n",
              "actor_2_facebook_likes        13\n",
              "aspect_ratio                 329\n",
              "budget                       492\n",
              "director_facebook_likes      104\n",
              "num_critic_for_reviews        50\n",
              "cast_total_facebook_likes      0\n",
              "gross                        884\n",
              "num_voted_users                0\n",
              "imdb_score                     0\n",
              "dtype: int64"
            ]
          },
          "execution_count": 88,
          "metadata": {},
          "output_type": "execute_result"
        }
      ],
      "source": [
        "df_nums.isna().sum()"
      ]
    },
    {
      "cell_type": "code",
      "execution_count": 89,
      "metadata": {
        "colab": {
          "base_uri": "https://localhost:8080/"
        },
        "id": "FTfNuMwmgjbU",
        "outputId": "fdb84d4e-f5b1-487c-fd2e-025149d43cd9"
      },
      "outputs": [
        {
          "data": {
            "text/plain": [
              "(5043, 16)"
            ]
          },
          "execution_count": 89,
          "metadata": {},
          "output_type": "execute_result"
        }
      ],
      "source": [
        "df_nums.shape"
      ]
    },
    {
      "cell_type": "code",
      "execution_count": 90,
      "metadata": {
        "colab": {
          "base_uri": "https://localhost:8080/",
          "height": 178
        },
        "id": "39jYGT0zgjbV",
        "outputId": "11232c5c-f4e0-41fb-c6de-9e1905a17d2f"
      },
      "outputs": [
        {
          "data": {
            "text/plain": [
              "0.4    6.3\n",
              "0.5    6.6\n",
              "0.6    6.8\n",
              "Name: imdb_score, dtype: float64"
            ]
          },
          "execution_count": 90,
          "metadata": {},
          "output_type": "execute_result"
        }
      ],
      "source": [
        "df_nums['imdb_score'].quantile(q=[0.4,0.5,0.6])"
      ]
    },
    {
      "cell_type": "code",
      "execution_count": 91,
      "metadata": {
        "id": "TkOo1iHEgjbX"
      },
      "outputs": [],
      "source": [
        "df_nums['imdb_cut']=df_nums['imdb_score'].apply(lambda x:0 if x<=6.3 else(1 if x>=6.8 else 'middle'))"
      ]
    },
    {
      "cell_type": "code",
      "execution_count": 92,
      "metadata": {
        "colab": {
          "base_uri": "https://localhost:8080/",
          "height": 209
        },
        "id": "M_taPEZvgjbY",
        "outputId": "340435ba-5e85-44c2-e53a-5d2340576b21"
      },
      "outputs": [
        {
          "data": {
            "text/plain": [
              "imdb_cut\n",
              "1         2133\n",
              "0         2115\n",
              "middle     795\n",
              "Name: count, dtype: int64"
            ]
          },
          "execution_count": 92,
          "metadata": {},
          "output_type": "execute_result"
        }
      ],
      "source": [
        "df_nums['imdb_cut'].value_counts()"
      ]
    },
    {
      "cell_type": "code",
      "execution_count": 93,
      "metadata": {
        "colab": {
          "base_uri": "https://localhost:8080/"
        },
        "id": "4a9CClGhgjbY",
        "outputId": "0c3cd128-ea32-428a-a1df-e89caaaf87b7"
      },
      "outputs": [
        {
          "data": {
            "text/plain": [
              "0.15764425936942297"
            ]
          },
          "execution_count": 93,
          "metadata": {},
          "output_type": "execute_result"
        }
      ],
      "source": [
        "795/len(df)"
      ]
    },
    {
      "cell_type": "code",
      "execution_count": 94,
      "metadata": {
        "colab": {
          "base_uri": "https://localhost:8080/",
          "height": 178
        },
        "id": "j1b4gYjigjbZ",
        "outputId": "fe7e3204-2a7e-4867-c7c3-9c3c75fa8696"
      },
      "outputs": [
        {
          "data": {
            "text/plain": [
              "imdb_cut\n",
              "1    2133\n",
              "0    2115\n",
              "Name: count, dtype: int64"
            ]
          },
          "execution_count": 94,
          "metadata": {},
          "output_type": "execute_result"
        }
      ],
      "source": [
        "df_nums_1=df_nums.drop(df_nums[df_nums['imdb_cut']=='middle'].index)\n",
        "df_nums_1['imdb_cut'].value_counts()"
      ]
    },
    {
      "cell_type": "code",
      "execution_count": 95,
      "metadata": {
        "colab": {
          "base_uri": "https://localhost:8080/",
          "height": 226
        },
        "id": "p1tI3WaTgjbg",
        "outputId": "89488374-0269-40b6-e269-e9bae93e9e20"
      },
      "outputs": [
        {
          "data": {
            "text/html": [
              "<div>\n",
              "<style scoped>\n",
              "    .dataframe tbody tr th:only-of-type {\n",
              "        vertical-align: middle;\n",
              "    }\n",
              "\n",
              "    .dataframe tbody tr th {\n",
              "        vertical-align: top;\n",
              "    }\n",
              "\n",
              "    .dataframe thead th {\n",
              "        text-align: right;\n",
              "    }\n",
              "</style>\n",
              "<table border=\"1\" class=\"dataframe\">\n",
              "  <thead>\n",
              "    <tr style=\"text-align: right;\">\n",
              "      <th></th>\n",
              "      <th>actor_3_facebook_likes</th>\n",
              "      <th>facenumber_in_poster</th>\n",
              "      <th>actor_1_facebook_likes</th>\n",
              "      <th>duration</th>\n",
              "      <th>title_year</th>\n",
              "      <th>movie_facebook_likes</th>\n",
              "      <th>num_user_for_reviews</th>\n",
              "      <th>actor_2_facebook_likes</th>\n",
              "      <th>aspect_ratio</th>\n",
              "      <th>budget</th>\n",
              "      <th>director_facebook_likes</th>\n",
              "      <th>num_critic_for_reviews</th>\n",
              "      <th>cast_total_facebook_likes</th>\n",
              "      <th>gross</th>\n",
              "      <th>num_voted_users</th>\n",
              "      <th>imdb_score</th>\n",
              "      <th>imdb_cut</th>\n",
              "    </tr>\n",
              "  </thead>\n",
              "  <tbody>\n",
              "    <tr>\n",
              "      <th>0</th>\n",
              "      <td>855.0</td>\n",
              "      <td>0.0</td>\n",
              "      <td>1000.0</td>\n",
              "      <td>178.0</td>\n",
              "      <td>2009.0</td>\n",
              "      <td>33000</td>\n",
              "      <td>3054.0</td>\n",
              "      <td>936.0</td>\n",
              "      <td>1.78</td>\n",
              "      <td>237000000.0</td>\n",
              "      <td>0.0</td>\n",
              "      <td>723.0</td>\n",
              "      <td>4834</td>\n",
              "      <td>760505847.0</td>\n",
              "      <td>886204</td>\n",
              "      <td>7.9</td>\n",
              "      <td>1</td>\n",
              "    </tr>\n",
              "    <tr>\n",
              "      <th>1</th>\n",
              "      <td>1000.0</td>\n",
              "      <td>0.0</td>\n",
              "      <td>40000.0</td>\n",
              "      <td>169.0</td>\n",
              "      <td>2007.0</td>\n",
              "      <td>0</td>\n",
              "      <td>1238.0</td>\n",
              "      <td>5000.0</td>\n",
              "      <td>2.35</td>\n",
              "      <td>300000000.0</td>\n",
              "      <td>563.0</td>\n",
              "      <td>302.0</td>\n",
              "      <td>48350</td>\n",
              "      <td>309404152.0</td>\n",
              "      <td>471220</td>\n",
              "      <td>7.1</td>\n",
              "      <td>1</td>\n",
              "    </tr>\n",
              "    <tr>\n",
              "      <th>2</th>\n",
              "      <td>161.0</td>\n",
              "      <td>1.0</td>\n",
              "      <td>11000.0</td>\n",
              "      <td>148.0</td>\n",
              "      <td>2015.0</td>\n",
              "      <td>85000</td>\n",
              "      <td>994.0</td>\n",
              "      <td>393.0</td>\n",
              "      <td>2.35</td>\n",
              "      <td>245000000.0</td>\n",
              "      <td>0.0</td>\n",
              "      <td>602.0</td>\n",
              "      <td>11700</td>\n",
              "      <td>200074175.0</td>\n",
              "      <td>275868</td>\n",
              "      <td>6.8</td>\n",
              "      <td>1</td>\n",
              "    </tr>\n",
              "    <tr>\n",
              "      <th>3</th>\n",
              "      <td>23000.0</td>\n",
              "      <td>0.0</td>\n",
              "      <td>27000.0</td>\n",
              "      <td>164.0</td>\n",
              "      <td>2012.0</td>\n",
              "      <td>164000</td>\n",
              "      <td>2701.0</td>\n",
              "      <td>23000.0</td>\n",
              "      <td>2.35</td>\n",
              "      <td>250000000.0</td>\n",
              "      <td>22000.0</td>\n",
              "      <td>813.0</td>\n",
              "      <td>106759</td>\n",
              "      <td>448130642.0</td>\n",
              "      <td>1144337</td>\n",
              "      <td>8.5</td>\n",
              "      <td>1</td>\n",
              "    </tr>\n",
              "    <tr>\n",
              "      <th>4</th>\n",
              "      <td>NaN</td>\n",
              "      <td>0.0</td>\n",
              "      <td>131.0</td>\n",
              "      <td>NaN</td>\n",
              "      <td>NaN</td>\n",
              "      <td>0</td>\n",
              "      <td>NaN</td>\n",
              "      <td>12.0</td>\n",
              "      <td>NaN</td>\n",
              "      <td>NaN</td>\n",
              "      <td>131.0</td>\n",
              "      <td>NaN</td>\n",
              "      <td>143</td>\n",
              "      <td>NaN</td>\n",
              "      <td>8</td>\n",
              "      <td>7.1</td>\n",
              "      <td>1</td>\n",
              "    </tr>\n",
              "  </tbody>\n",
              "</table>\n",
              "</div>"
            ],
            "text/plain": [
              "   actor_3_facebook_likes  facenumber_in_poster  actor_1_facebook_likes  \\\n",
              "0                   855.0                   0.0                  1000.0   \n",
              "1                  1000.0                   0.0                 40000.0   \n",
              "2                   161.0                   1.0                 11000.0   \n",
              "3                 23000.0                   0.0                 27000.0   \n",
              "4                     NaN                   0.0                   131.0   \n",
              "\n",
              "   duration  title_year  movie_facebook_likes  num_user_for_reviews  \\\n",
              "0     178.0      2009.0                 33000                3054.0   \n",
              "1     169.0      2007.0                     0                1238.0   \n",
              "2     148.0      2015.0                 85000                 994.0   \n",
              "3     164.0      2012.0                164000                2701.0   \n",
              "4       NaN         NaN                     0                   NaN   \n",
              "\n",
              "   actor_2_facebook_likes  aspect_ratio       budget  director_facebook_likes  \\\n",
              "0                   936.0          1.78  237000000.0                      0.0   \n",
              "1                  5000.0          2.35  300000000.0                    563.0   \n",
              "2                   393.0          2.35  245000000.0                      0.0   \n",
              "3                 23000.0          2.35  250000000.0                  22000.0   \n",
              "4                    12.0           NaN          NaN                    131.0   \n",
              "\n",
              "   num_critic_for_reviews  cast_total_facebook_likes        gross  \\\n",
              "0                   723.0                       4834  760505847.0   \n",
              "1                   302.0                      48350  309404152.0   \n",
              "2                   602.0                      11700  200074175.0   \n",
              "3                   813.0                     106759  448130642.0   \n",
              "4                     NaN                        143          NaN   \n",
              "\n",
              "   num_voted_users  imdb_score imdb_cut  \n",
              "0           886204         7.9        1  \n",
              "1           471220         7.1        1  \n",
              "2           275868         6.8        1  \n",
              "3          1144337         8.5        1  \n",
              "4                8         7.1        1  "
            ]
          },
          "execution_count": 95,
          "metadata": {},
          "output_type": "execute_result"
        }
      ],
      "source": [
        "df_nums_1.head()"
      ]
    },
    {
      "cell_type": "code",
      "execution_count": 96,
      "metadata": {
        "colab": {
          "base_uri": "https://localhost:8080/"
        },
        "id": "yz60AuBIgjbs",
        "outputId": "85183a51-2664-402e-c3be-8c7ccebc012c"
      },
      "outputs": [
        {
          "data": {
            "text/plain": [
              "Index(['actor_3_facebook_likes', 'facenumber_in_poster',\n",
              "       'actor_1_facebook_likes', 'duration', 'title_year',\n",
              "       'movie_facebook_likes', 'num_user_for_reviews',\n",
              "       'actor_2_facebook_likes', 'aspect_ratio', 'budget',\n",
              "       'director_facebook_likes', 'num_critic_for_reviews',\n",
              "       'cast_total_facebook_likes', 'gross', 'num_voted_users', 'imdb_score',\n",
              "       'imdb_cut'],\n",
              "      dtype='object')"
            ]
          },
          "execution_count": 96,
          "metadata": {},
          "output_type": "execute_result"
        }
      ],
      "source": [
        "df_nums_1.columns"
      ]
    },
    {
      "cell_type": "code",
      "execution_count": 97,
      "metadata": {
        "id": "daKxyL1Kgjbu"
      },
      "outputs": [],
      "source": [
        "#1d array (m,1).ravel() or (m,)\n",
        "#pd.Series index\n",
        "#pd.DataFrame with single column index and column label\n",
        "x=df_nums_1.drop(['imdb_score','imdb_cut'],axis=1)\n",
        "y=df_nums_1['imdb_cut'].to_numpy()"
      ]
    },
    {
      "cell_type": "code",
      "execution_count": 98,
      "metadata": {
        "colab": {
          "base_uri": "https://localhost:8080/"
        },
        "id": "rC8O6AKkgjbv",
        "outputId": "64c709d8-ceb3-4da4-8e47-19140b689fc9"
      },
      "outputs": [
        {
          "data": {
            "text/plain": [
              "(4248,)"
            ]
          },
          "execution_count": 98,
          "metadata": {},
          "output_type": "execute_result"
        }
      ],
      "source": [
        "df_nums_1['imdb_cut'].to_numpy().shape"
      ]
    },
    {
      "cell_type": "code",
      "execution_count": 99,
      "metadata": {
        "colab": {
          "base_uri": "https://localhost:8080/"
        },
        "id": "XLOplrFdgjb3",
        "outputId": "3ee5680d-4d2b-4af4-d432-381fdc30d2d0"
      },
      "outputs": [
        {
          "data": {
            "text/plain": [
              "(4248,)"
            ]
          },
          "execution_count": 99,
          "metadata": {},
          "output_type": "execute_result"
        }
      ],
      "source": [
        "y.shape"
      ]
    },
    {
      "cell_type": "code",
      "execution_count": 100,
      "metadata": {
        "id": "NhJGcDEGgjb5"
      },
      "outputs": [],
      "source": [
        "y_labels=['imdb_low','imdb_high']"
      ]
    },
    {
      "cell_type": "code",
      "execution_count": 101,
      "metadata": {
        "colab": {
          "base_uri": "https://localhost:8080/"
        },
        "id": "RYCzzy2Zgjb5",
        "outputId": "54a702ec-a9f8-4d0d-d674-968c786d8d16"
      },
      "outputs": [
        {
          "name": "stdout",
          "output_type": "stream",
          "text": [
            "<class 'pandas.core.frame.DataFrame'>\n",
            "Index: 4248 entries, 0 to 5041\n",
            "Data columns (total 17 columns):\n",
            " #   Column                     Non-Null Count  Dtype  \n",
            "---  ------                     --------------  -----  \n",
            " 0   actor_3_facebook_likes     4228 non-null   float64\n",
            " 1   facenumber_in_poster       4235 non-null   float64\n",
            " 2   actor_1_facebook_likes     4242 non-null   float64\n",
            " 3   duration                   4235 non-null   float64\n",
            " 4   title_year                 4148 non-null   float64\n",
            " 5   movie_facebook_likes       4248 non-null   int64  \n",
            " 6   num_user_for_reviews       4228 non-null   float64\n",
            " 7   actor_2_facebook_likes     4236 non-null   float64\n",
            " 8   aspect_ratio               3960 non-null   float64\n",
            " 9   budget                     3817 non-null   float64\n",
            " 10  director_facebook_likes    4152 non-null   float64\n",
            " 11  num_critic_for_reviews     4200 non-null   float64\n",
            " 12  cast_total_facebook_likes  4248 non-null   int64  \n",
            " 13  gross                      3454 non-null   float64\n",
            " 14  num_voted_users            4248 non-null   int64  \n",
            " 15  imdb_score                 4248 non-null   float64\n",
            " 16  imdb_cut                   4248 non-null   object \n",
            "dtypes: float64(13), int64(3), object(1)\n",
            "memory usage: 597.4+ KB\n"
          ]
        }
      ],
      "source": [
        "df_nums_1.info()"
      ]
    },
    {
      "cell_type": "code",
      "execution_count": 102,
      "metadata": {
        "id": "5NcdKEjEgjb7"
      },
      "outputs": [],
      "source": [
        "x_train,x_test,y_train,y_test=train_test_split(x,y,test_size=0.3,shuffle=True,stratify=y,random_state=100)\n",
        "y_train=y_train.astype(int)\n",
        "y_test=y_test.astype(int)"
      ]
    },
    {
      "cell_type": "code",
      "execution_count": 103,
      "metadata": {
        "colab": {
          "base_uri": "https://localhost:8080/",
          "height": 226
        },
        "id": "QqJTIkTngjb7",
        "outputId": "c589bc84-073a-49d8-c6b7-1a16ce970097"
      },
      "outputs": [
        {
          "data": {
            "text/html": [
              "<div>\n",
              "<style scoped>\n",
              "    .dataframe tbody tr th:only-of-type {\n",
              "        vertical-align: middle;\n",
              "    }\n",
              "\n",
              "    .dataframe tbody tr th {\n",
              "        vertical-align: top;\n",
              "    }\n",
              "\n",
              "    .dataframe thead th {\n",
              "        text-align: right;\n",
              "    }\n",
              "</style>\n",
              "<table border=\"1\" class=\"dataframe\">\n",
              "  <thead>\n",
              "    <tr style=\"text-align: right;\">\n",
              "      <th></th>\n",
              "      <th>actor_3_facebook_likes</th>\n",
              "      <th>facenumber_in_poster</th>\n",
              "      <th>actor_1_facebook_likes</th>\n",
              "      <th>duration</th>\n",
              "      <th>title_year</th>\n",
              "      <th>movie_facebook_likes</th>\n",
              "      <th>num_user_for_reviews</th>\n",
              "      <th>actor_2_facebook_likes</th>\n",
              "      <th>aspect_ratio</th>\n",
              "      <th>budget</th>\n",
              "      <th>director_facebook_likes</th>\n",
              "      <th>num_critic_for_reviews</th>\n",
              "      <th>cast_total_facebook_likes</th>\n",
              "      <th>gross</th>\n",
              "      <th>num_voted_users</th>\n",
              "    </tr>\n",
              "  </thead>\n",
              "  <tbody>\n",
              "    <tr>\n",
              "      <th>0</th>\n",
              "      <td>855.0</td>\n",
              "      <td>0.0</td>\n",
              "      <td>1000.0</td>\n",
              "      <td>178.0</td>\n",
              "      <td>2009.0</td>\n",
              "      <td>33000</td>\n",
              "      <td>3054.0</td>\n",
              "      <td>936.0</td>\n",
              "      <td>1.78</td>\n",
              "      <td>237000000.0</td>\n",
              "      <td>0.0</td>\n",
              "      <td>723.0</td>\n",
              "      <td>4834</td>\n",
              "      <td>760505847.0</td>\n",
              "      <td>886204</td>\n",
              "    </tr>\n",
              "    <tr>\n",
              "      <th>2</th>\n",
              "      <td>161.0</td>\n",
              "      <td>1.0</td>\n",
              "      <td>11000.0</td>\n",
              "      <td>148.0</td>\n",
              "      <td>2015.0</td>\n",
              "      <td>85000</td>\n",
              "      <td>994.0</td>\n",
              "      <td>393.0</td>\n",
              "      <td>2.35</td>\n",
              "      <td>245000000.0</td>\n",
              "      <td>0.0</td>\n",
              "      <td>602.0</td>\n",
              "      <td>11700</td>\n",
              "      <td>200074175.0</td>\n",
              "      <td>275868</td>\n",
              "    </tr>\n",
              "    <tr>\n",
              "      <th>3</th>\n",
              "      <td>23000.0</td>\n",
              "      <td>0.0</td>\n",
              "      <td>27000.0</td>\n",
              "      <td>164.0</td>\n",
              "      <td>2012.0</td>\n",
              "      <td>164000</td>\n",
              "      <td>2701.0</td>\n",
              "      <td>23000.0</td>\n",
              "      <td>2.35</td>\n",
              "      <td>250000000.0</td>\n",
              "      <td>22000.0</td>\n",
              "      <td>813.0</td>\n",
              "      <td>106759</td>\n",
              "      <td>448130642.0</td>\n",
              "      <td>1144337</td>\n",
              "    </tr>\n",
              "    <tr>\n",
              "      <th>4</th>\n",
              "      <td>NaN</td>\n",
              "      <td>0.0</td>\n",
              "      <td>131.0</td>\n",
              "      <td>NaN</td>\n",
              "      <td>NaN</td>\n",
              "      <td>0</td>\n",
              "      <td>NaN</td>\n",
              "      <td>12.0</td>\n",
              "      <td>NaN</td>\n",
              "      <td>NaN</td>\n",
              "      <td>131.0</td>\n",
              "      <td>NaN</td>\n",
              "      <td>143</td>\n",
              "      <td>NaN</td>\n",
              "      <td>8</td>\n",
              "    </tr>\n",
              "    <tr>\n",
              "      <th>7</th>\n",
              "      <td>284.0</td>\n",
              "      <td>1.0</td>\n",
              "      <td>799.0</td>\n",
              "      <td>100.0</td>\n",
              "      <td>2010.0</td>\n",
              "      <td>29000</td>\n",
              "      <td>387.0</td>\n",
              "      <td>553.0</td>\n",
              "      <td>1.85</td>\n",
              "      <td>260000000.0</td>\n",
              "      <td>15.0</td>\n",
              "      <td>324.0</td>\n",
              "      <td>2036</td>\n",
              "      <td>200807262.0</td>\n",
              "      <td>294810</td>\n",
              "    </tr>\n",
              "  </tbody>\n",
              "</table>\n",
              "</div>"
            ],
            "text/plain": [
              "   actor_3_facebook_likes  facenumber_in_poster  actor_1_facebook_likes  \\\n",
              "0                   855.0                   0.0                  1000.0   \n",
              "2                   161.0                   1.0                 11000.0   \n",
              "3                 23000.0                   0.0                 27000.0   \n",
              "4                     NaN                   0.0                   131.0   \n",
              "7                   284.0                   1.0                   799.0   \n",
              "\n",
              "   duration  title_year  movie_facebook_likes  num_user_for_reviews  \\\n",
              "0     178.0      2009.0                 33000                3054.0   \n",
              "2     148.0      2015.0                 85000                 994.0   \n",
              "3     164.0      2012.0                164000                2701.0   \n",
              "4       NaN         NaN                     0                   NaN   \n",
              "7     100.0      2010.0                 29000                 387.0   \n",
              "\n",
              "   actor_2_facebook_likes  aspect_ratio       budget  director_facebook_likes  \\\n",
              "0                   936.0          1.78  237000000.0                      0.0   \n",
              "2                   393.0          2.35  245000000.0                      0.0   \n",
              "3                 23000.0          2.35  250000000.0                  22000.0   \n",
              "4                    12.0           NaN          NaN                    131.0   \n",
              "7                   553.0          1.85  260000000.0                     15.0   \n",
              "\n",
              "   num_critic_for_reviews  cast_total_facebook_likes        gross  \\\n",
              "0                   723.0                       4834  760505847.0   \n",
              "2                   602.0                      11700  200074175.0   \n",
              "3                   813.0                     106759  448130642.0   \n",
              "4                     NaN                        143          NaN   \n",
              "7                   324.0                       2036  200807262.0   \n",
              "\n",
              "   num_voted_users  \n",
              "0           886204  \n",
              "2           275868  \n",
              "3          1144337  \n",
              "4                8  \n",
              "7           294810  "
            ]
          },
          "execution_count": 103,
          "metadata": {},
          "output_type": "execute_result"
        }
      ],
      "source": [
        "x_train.sort_index().head()"
      ]
    },
    {
      "cell_type": "code",
      "execution_count": 104,
      "metadata": {
        "colab": {
          "base_uri": "https://localhost:8080/"
        },
        "id": "tTOtL70qgjcE",
        "outputId": "5859e4d3-6b06-42a1-8565-0732ec9d8190"
      },
      "outputs": [
        {
          "data": {
            "text/plain": [
              "(2973, 15)"
            ]
          },
          "execution_count": 104,
          "metadata": {},
          "output_type": "execute_result"
        }
      ],
      "source": [
        "x_train.shape"
      ]
    },
    {
      "cell_type": "code",
      "execution_count": 105,
      "metadata": {
        "colab": {
          "base_uri": "https://localhost:8080/",
          "height": 320
        },
        "id": "z3C73XklgjcE",
        "outputId": "0af1e5a0-91c7-48d1-edbe-442138505c7a"
      },
      "outputs": [
        {
          "data": {
            "text/html": [
              "<div>\n",
              "<style scoped>\n",
              "    .dataframe tbody tr th:only-of-type {\n",
              "        vertical-align: middle;\n",
              "    }\n",
              "\n",
              "    .dataframe tbody tr th {\n",
              "        vertical-align: top;\n",
              "    }\n",
              "\n",
              "    .dataframe thead th {\n",
              "        text-align: right;\n",
              "    }\n",
              "</style>\n",
              "<table border=\"1\" class=\"dataframe\">\n",
              "  <thead>\n",
              "    <tr style=\"text-align: right;\">\n",
              "      <th></th>\n",
              "      <th>actor_3_facebook_likes</th>\n",
              "      <th>facenumber_in_poster</th>\n",
              "      <th>actor_1_facebook_likes</th>\n",
              "      <th>duration</th>\n",
              "      <th>title_year</th>\n",
              "      <th>movie_facebook_likes</th>\n",
              "      <th>num_user_for_reviews</th>\n",
              "      <th>actor_2_facebook_likes</th>\n",
              "      <th>aspect_ratio</th>\n",
              "      <th>budget</th>\n",
              "      <th>director_facebook_likes</th>\n",
              "      <th>num_critic_for_reviews</th>\n",
              "      <th>cast_total_facebook_likes</th>\n",
              "      <th>gross</th>\n",
              "      <th>num_voted_users</th>\n",
              "    </tr>\n",
              "  </thead>\n",
              "  <tbody>\n",
              "    <tr>\n",
              "      <th>count</th>\n",
              "      <td>2959.000000</td>\n",
              "      <td>2963.000000</td>\n",
              "      <td>2969.000000</td>\n",
              "      <td>2964.000000</td>\n",
              "      <td>2903.000000</td>\n",
              "      <td>2973.000000</td>\n",
              "      <td>2959.000000</td>\n",
              "      <td>2965.000000</td>\n",
              "      <td>2762.000000</td>\n",
              "      <td>2.653000e+03</td>\n",
              "      <td>2907.000000</td>\n",
              "      <td>2940.000000</td>\n",
              "      <td>2973.000000</td>\n",
              "      <td>2.423000e+03</td>\n",
              "      <td>2.973000e+03</td>\n",
              "    </tr>\n",
              "    <tr>\n",
              "      <th>mean</th>\n",
              "      <td>650.682663</td>\n",
              "      <td>1.331421</td>\n",
              "      <td>6494.261704</td>\n",
              "      <td>106.969973</td>\n",
              "      <td>2002.216672</td>\n",
              "      <td>7446.565758</td>\n",
              "      <td>278.655965</td>\n",
              "      <td>1603.025632</td>\n",
              "      <td>2.226738</td>\n",
              "      <td>4.090344e+07</td>\n",
              "      <td>680.023048</td>\n",
              "      <td>139.463605</td>\n",
              "      <td>9596.612176</td>\n",
              "      <td>4.814273e+07</td>\n",
              "      <td>8.544587e+04</td>\n",
              "    </tr>\n",
              "    <tr>\n",
              "      <th>std</th>\n",
              "      <td>1750.564118</td>\n",
              "      <td>1.966854</td>\n",
              "      <td>17487.530710</td>\n",
              "      <td>26.048323</td>\n",
              "      <td>12.722760</td>\n",
              "      <td>20061.581475</td>\n",
              "      <td>392.936679</td>\n",
              "      <td>4245.150715</td>\n",
              "      <td>1.425877</td>\n",
              "      <td>2.543049e+08</td>\n",
              "      <td>2804.035254</td>\n",
              "      <td>123.376048</td>\n",
              "      <td>20525.599505</td>\n",
              "      <td>7.048790e+07</td>\n",
              "      <td>1.474329e+05</td>\n",
              "    </tr>\n",
              "    <tr>\n",
              "      <th>min</th>\n",
              "      <td>0.000000</td>\n",
              "      <td>0.000000</td>\n",
              "      <td>0.000000</td>\n",
              "      <td>7.000000</td>\n",
              "      <td>1916.000000</td>\n",
              "      <td>0.000000</td>\n",
              "      <td>1.000000</td>\n",
              "      <td>0.000000</td>\n",
              "      <td>1.200000</td>\n",
              "      <td>2.180000e+02</td>\n",
              "      <td>0.000000</td>\n",
              "      <td>1.000000</td>\n",
              "      <td>0.000000</td>\n",
              "      <td>1.620000e+02</td>\n",
              "      <td>5.000000e+00</td>\n",
              "    </tr>\n",
              "    <tr>\n",
              "      <th>25%</th>\n",
              "      <td>132.000000</td>\n",
              "      <td>0.000000</td>\n",
              "      <td>606.000000</td>\n",
              "      <td>93.000000</td>\n",
              "      <td>1999.000000</td>\n",
              "      <td>0.000000</td>\n",
              "      <td>64.000000</td>\n",
              "      <td>282.000000</td>\n",
              "      <td>1.850000</td>\n",
              "      <td>5.500000e+06</td>\n",
              "      <td>6.000000</td>\n",
              "      <td>49.000000</td>\n",
              "      <td>1379.000000</td>\n",
              "      <td>5.705630e+06</td>\n",
              "      <td>8.217000e+03</td>\n",
              "    </tr>\n",
              "    <tr>\n",
              "      <th>50%</th>\n",
              "      <td>368.000000</td>\n",
              "      <td>1.000000</td>\n",
              "      <td>975.000000</td>\n",
              "      <td>103.000000</td>\n",
              "      <td>2005.000000</td>\n",
              "      <td>158.000000</td>\n",
              "      <td>159.000000</td>\n",
              "      <td>592.000000</td>\n",
              "      <td>2.350000</td>\n",
              "      <td>1.800000e+07</td>\n",
              "      <td>44.000000</td>\n",
              "      <td>108.000000</td>\n",
              "      <td>3016.000000</td>\n",
              "      <td>2.439747e+07</td>\n",
              "      <td>3.239900e+04</td>\n",
              "    </tr>\n",
              "    <tr>\n",
              "      <th>75%</th>\n",
              "      <td>627.500000</td>\n",
              "      <td>2.000000</td>\n",
              "      <td>11000.000000</td>\n",
              "      <td>117.000000</td>\n",
              "      <td>2011.000000</td>\n",
              "      <td>2000.000000</td>\n",
              "      <td>329.000000</td>\n",
              "      <td>898.000000</td>\n",
              "      <td>2.350000</td>\n",
              "      <td>4.000000e+07</td>\n",
              "      <td>192.000000</td>\n",
              "      <td>192.000000</td>\n",
              "      <td>13071.000000</td>\n",
              "      <td>5.971586e+07</td>\n",
              "      <td>9.246100e+04</td>\n",
              "    </tr>\n",
              "    <tr>\n",
              "      <th>max</th>\n",
              "      <td>23000.000000</td>\n",
              "      <td>31.000000</td>\n",
              "      <td>640000.000000</td>\n",
              "      <td>511.000000</td>\n",
              "      <td>2016.000000</td>\n",
              "      <td>349000.000000</td>\n",
              "      <td>5060.000000</td>\n",
              "      <td>137000.000000</td>\n",
              "      <td>16.000000</td>\n",
              "      <td>1.221550e+10</td>\n",
              "      <td>22000.000000</td>\n",
              "      <td>813.000000</td>\n",
              "      <td>656730.000000</td>\n",
              "      <td>7.605058e+08</td>\n",
              "      <td>1.689764e+06</td>\n",
              "    </tr>\n",
              "  </tbody>\n",
              "</table>\n",
              "</div>"
            ],
            "text/plain": [
              "       actor_3_facebook_likes  facenumber_in_poster  actor_1_facebook_likes  \\\n",
              "count             2959.000000           2963.000000             2969.000000   \n",
              "mean               650.682663              1.331421             6494.261704   \n",
              "std               1750.564118              1.966854            17487.530710   \n",
              "min                  0.000000              0.000000                0.000000   \n",
              "25%                132.000000              0.000000              606.000000   \n",
              "50%                368.000000              1.000000              975.000000   \n",
              "75%                627.500000              2.000000            11000.000000   \n",
              "max              23000.000000             31.000000           640000.000000   \n",
              "\n",
              "          duration   title_year  movie_facebook_likes  num_user_for_reviews  \\\n",
              "count  2964.000000  2903.000000           2973.000000           2959.000000   \n",
              "mean    106.969973  2002.216672           7446.565758            278.655965   \n",
              "std      26.048323    12.722760          20061.581475            392.936679   \n",
              "min       7.000000  1916.000000              0.000000              1.000000   \n",
              "25%      93.000000  1999.000000              0.000000             64.000000   \n",
              "50%     103.000000  2005.000000            158.000000            159.000000   \n",
              "75%     117.000000  2011.000000           2000.000000            329.000000   \n",
              "max     511.000000  2016.000000         349000.000000           5060.000000   \n",
              "\n",
              "       actor_2_facebook_likes  aspect_ratio        budget  \\\n",
              "count             2965.000000   2762.000000  2.653000e+03   \n",
              "mean              1603.025632      2.226738  4.090344e+07   \n",
              "std               4245.150715      1.425877  2.543049e+08   \n",
              "min                  0.000000      1.200000  2.180000e+02   \n",
              "25%                282.000000      1.850000  5.500000e+06   \n",
              "50%                592.000000      2.350000  1.800000e+07   \n",
              "75%                898.000000      2.350000  4.000000e+07   \n",
              "max             137000.000000     16.000000  1.221550e+10   \n",
              "\n",
              "       director_facebook_likes  num_critic_for_reviews  \\\n",
              "count              2907.000000             2940.000000   \n",
              "mean                680.023048              139.463605   \n",
              "std                2804.035254              123.376048   \n",
              "min                   0.000000                1.000000   \n",
              "25%                   6.000000               49.000000   \n",
              "50%                  44.000000              108.000000   \n",
              "75%                 192.000000              192.000000   \n",
              "max               22000.000000              813.000000   \n",
              "\n",
              "       cast_total_facebook_likes         gross  num_voted_users  \n",
              "count                2973.000000  2.423000e+03     2.973000e+03  \n",
              "mean                 9596.612176  4.814273e+07     8.544587e+04  \n",
              "std                 20525.599505  7.048790e+07     1.474329e+05  \n",
              "min                     0.000000  1.620000e+02     5.000000e+00  \n",
              "25%                  1379.000000  5.705630e+06     8.217000e+03  \n",
              "50%                  3016.000000  2.439747e+07     3.239900e+04  \n",
              "75%                 13071.000000  5.971586e+07     9.246100e+04  \n",
              "max                656730.000000  7.605058e+08     1.689764e+06  "
            ]
          },
          "execution_count": 105,
          "metadata": {},
          "output_type": "execute_result"
        }
      ],
      "source": [
        "x_train.describe()"
      ]
    },
    {
      "cell_type": "markdown",
      "metadata": {
        "id": "m9OkXbz0gjcI"
      },
      "source": [
        "##### Change distribution to be normalized"
      ]
    },
    {
      "cell_type": "code",
      "execution_count": 106,
      "metadata": {
        "colab": {
          "base_uri": "https://localhost:8080/",
          "height": 226
        },
        "id": "DYdL4DlbgjcJ",
        "outputId": "3f180678-8f61-48e6-a981-26a25e3432ec"
      },
      "outputs": [
        {
          "data": {
            "text/html": [
              "<div>\n",
              "<style scoped>\n",
              "    .dataframe tbody tr th:only-of-type {\n",
              "        vertical-align: middle;\n",
              "    }\n",
              "\n",
              "    .dataframe tbody tr th {\n",
              "        vertical-align: top;\n",
              "    }\n",
              "\n",
              "    .dataframe thead th {\n",
              "        text-align: right;\n",
              "    }\n",
              "</style>\n",
              "<table border=\"1\" class=\"dataframe\">\n",
              "  <thead>\n",
              "    <tr style=\"text-align: right;\">\n",
              "      <th></th>\n",
              "      <th>actor_3_facebook_likes</th>\n",
              "      <th>facenumber_in_poster</th>\n",
              "      <th>actor_1_facebook_likes</th>\n",
              "      <th>duration</th>\n",
              "      <th>title_year</th>\n",
              "      <th>movie_facebook_likes</th>\n",
              "      <th>num_user_for_reviews</th>\n",
              "      <th>actor_2_facebook_likes</th>\n",
              "      <th>aspect_ratio</th>\n",
              "      <th>budget</th>\n",
              "      <th>director_facebook_likes</th>\n",
              "      <th>num_critic_for_reviews</th>\n",
              "      <th>cast_total_facebook_likes</th>\n",
              "      <th>gross</th>\n",
              "      <th>num_voted_users</th>\n",
              "    </tr>\n",
              "  </thead>\n",
              "  <tbody>\n",
              "    <tr>\n",
              "      <th>0</th>\n",
              "      <td>0.076214</td>\n",
              "      <td>-1.048678</td>\n",
              "      <td>-0.481017</td>\n",
              "      <td>0.373111</td>\n",
              "      <td>0.453136</td>\n",
              "      <td>0.607972</td>\n",
              "      <td>-0.993857</td>\n",
              "      <td>-0.306605</td>\n",
              "      <td>-0.639743</td>\n",
              "      <td>-0.064374</td>\n",
              "      <td>0.645701</td>\n",
              "      <td>-0.548083</td>\n",
              "      <td>-0.327672</td>\n",
              "      <td>-1.671120</td>\n",
              "      <td>-0.509705</td>\n",
              "    </tr>\n",
              "    <tr>\n",
              "      <th>1</th>\n",
              "      <td>0.743956</td>\n",
              "      <td>0.899262</td>\n",
              "      <td>-0.290918</td>\n",
              "      <td>-0.731938</td>\n",
              "      <td>0.234625</td>\n",
              "      <td>1.183027</td>\n",
              "      <td>-0.404985</td>\n",
              "      <td>0.288557</td>\n",
              "      <td>-0.896681</td>\n",
              "      <td>-1.475926</td>\n",
              "      <td>-0.184101</td>\n",
              "      <td>0.121030</td>\n",
              "      <td>0.126709</td>\n",
              "      <td>-1.775062</td>\n",
              "      <td>0.221228</td>\n",
              "    </tr>\n",
              "    <tr>\n",
              "      <th>2</th>\n",
              "      <td>0.730093</td>\n",
              "      <td>-1.048678</td>\n",
              "      <td>-0.296795</td>\n",
              "      <td>-0.688175</td>\n",
              "      <td>-0.456064</td>\n",
              "      <td>1.256336</td>\n",
              "      <td>1.210289</td>\n",
              "      <td>0.367064</td>\n",
              "      <td>-0.639743</td>\n",
              "      <td>-0.316328</td>\n",
              "      <td>0.991276</td>\n",
              "      <td>0.344038</td>\n",
              "      <td>-0.068187</td>\n",
              "      <td>-0.357613</td>\n",
              "      <td>1.197378</td>\n",
              "    </tr>\n",
              "    <tr>\n",
              "      <th>3</th>\n",
              "      <td>-0.039819</td>\n",
              "      <td>-1.048678</td>\n",
              "      <td>1.325590</td>\n",
              "      <td>0.020964</td>\n",
              "      <td>1.045084</td>\n",
              "      <td>1.370346</td>\n",
              "      <td>0.474722</td>\n",
              "      <td>0.154100</td>\n",
              "      <td>-0.639743</td>\n",
              "      <td>0.405867</td>\n",
              "      <td>-1.520837</td>\n",
              "      <td>1.859988</td>\n",
              "      <td>1.088979</td>\n",
              "      <td>0.250806</td>\n",
              "      <td>0.979463</td>\n",
              "    </tr>\n",
              "    <tr>\n",
              "      <th>4</th>\n",
              "      <td>-0.263727</td>\n",
              "      <td>1.434581</td>\n",
              "      <td>-0.307640</td>\n",
              "      <td>0.257330</td>\n",
              "      <td>0.800181</td>\n",
              "      <td>1.215854</td>\n",
              "      <td>0.004082</td>\n",
              "      <td>0.281349</td>\n",
              "      <td>-0.639743</td>\n",
              "      <td>0.517688</td>\n",
              "      <td>0.093067</td>\n",
              "      <td>0.215766</td>\n",
              "      <td>-0.295339</td>\n",
              "      <td>0.375621</td>\n",
              "      <td>0.245750</td>\n",
              "    </tr>\n",
              "  </tbody>\n",
              "</table>\n",
              "</div>"
            ],
            "text/plain": [
              "   actor_3_facebook_likes  facenumber_in_poster  actor_1_facebook_likes  \\\n",
              "0                0.076214             -1.048678               -0.481017   \n",
              "1                0.743956              0.899262               -0.290918   \n",
              "2                0.730093             -1.048678               -0.296795   \n",
              "3               -0.039819             -1.048678                1.325590   \n",
              "4               -0.263727              1.434581               -0.307640   \n",
              "\n",
              "   duration  title_year  movie_facebook_likes  num_user_for_reviews  \\\n",
              "0  0.373111    0.453136              0.607972             -0.993857   \n",
              "1 -0.731938    0.234625              1.183027             -0.404985   \n",
              "2 -0.688175   -0.456064              1.256336              1.210289   \n",
              "3  0.020964    1.045084              1.370346              0.474722   \n",
              "4  0.257330    0.800181              1.215854              0.004082   \n",
              "\n",
              "   actor_2_facebook_likes  aspect_ratio    budget  director_facebook_likes  \\\n",
              "0               -0.306605     -0.639743 -0.064374                 0.645701   \n",
              "1                0.288557     -0.896681 -1.475926                -0.184101   \n",
              "2                0.367064     -0.639743 -0.316328                 0.991276   \n",
              "3                0.154100     -0.639743  0.405867                -1.520837   \n",
              "4                0.281349     -0.639743  0.517688                 0.093067   \n",
              "\n",
              "   num_critic_for_reviews  cast_total_facebook_likes     gross  \\\n",
              "0               -0.548083                  -0.327672 -1.671120   \n",
              "1                0.121030                   0.126709 -1.775062   \n",
              "2                0.344038                  -0.068187 -0.357613   \n",
              "3                1.859988                   1.088979  0.250806   \n",
              "4                0.215766                  -0.295339  0.375621   \n",
              "\n",
              "   num_voted_users  \n",
              "0        -0.509705  \n",
              "1         0.221228  \n",
              "2         1.197378  \n",
              "3         0.979463  \n",
              "4         0.245750  "
            ]
          },
          "execution_count": 106,
          "metadata": {},
          "output_type": "execute_result"
        }
      ],
      "source": [
        "powertran=preprocessing.PowerTransformer()\n",
        "powertran=powertran.fit(x_train)\n",
        "x_train=pd.DataFrame(powertran.transform(x_train),columns=x_train.columns)\n",
        "x_train.head()"
      ]
    },
    {
      "cell_type": "code",
      "execution_count": 107,
      "metadata": {
        "colab": {
          "base_uri": "https://localhost:8080/"
        },
        "id": "5TDGfFaGgjcK",
        "outputId": "d3425527-e2a4-498f-c8ed-25410bd43d9c"
      },
      "outputs": [
        {
          "data": {
            "text/plain": [
              "array([ 1.55867455e-01, -6.33919025e-01,  4.91365438e-02,  4.89664131e-01,\n",
              "        4.68507943e+01, -4.20929269e-02,  1.49480248e-01,  8.59455455e-02,\n",
              "       -2.14586317e+00,  1.59219753e-01, -2.36082527e-02,  3.06795168e-01,\n",
              "        1.35500025e-01,  2.26026592e-01,  1.54335941e-01])"
            ]
          },
          "execution_count": 107,
          "metadata": {},
          "output_type": "execute_result"
        }
      ],
      "source": [
        "powertran.lambdas_"
      ]
    },
    {
      "cell_type": "code",
      "execution_count": 108,
      "metadata": {
        "colab": {
          "base_uri": "https://localhost:8080/",
          "height": 712
        },
        "id": "tmx1-zO3gjcN",
        "outputId": "6e9a0d2c-db37-43d3-a847-e40f93954844"
      },
      "outputs": [
        {
          "data": {
            "text/plain": [
              "array([[<Axes: title={'center': 'actor_3_facebook_likes'}>,\n",
              "        <Axes: title={'center': 'facenumber_in_poster'}>,\n",
              "        <Axes: title={'center': 'actor_1_facebook_likes'}>,\n",
              "        <Axes: title={'center': 'duration'}>],\n",
              "       [<Axes: title={'center': 'title_year'}>,\n",
              "        <Axes: title={'center': 'movie_facebook_likes'}>,\n",
              "        <Axes: title={'center': 'num_user_for_reviews'}>,\n",
              "        <Axes: title={'center': 'actor_2_facebook_likes'}>],\n",
              "       [<Axes: title={'center': 'aspect_ratio'}>,\n",
              "        <Axes: title={'center': 'budget'}>,\n",
              "        <Axes: title={'center': 'director_facebook_likes'}>,\n",
              "        <Axes: title={'center': 'num_critic_for_reviews'}>],\n",
              "       [<Axes: title={'center': 'cast_total_facebook_likes'}>,\n",
              "        <Axes: title={'center': 'gross'}>,\n",
              "        <Axes: title={'center': 'num_voted_users'}>, <Axes: >]],\n",
              "      dtype=object)"
            ]
          },
          "execution_count": 108,
          "metadata": {},
          "output_type": "execute_result"
        },
        {
          "data": {
            "image/png": "[encoded data removed]",
            "text/plain": [
              "<Figure size 640x480 with 16 Axes>"
            ]
          },
          "metadata": {},
          "output_type": "display_data"
        }
      ],
      "source": [
        "x_train.hist()\n"
      ]
    },
    {
      "cell_type": "code",
      "execution_count": 109,
      "metadata": {
        "id": "zWU6L84YgjcO"
      },
      "outputs": [],
      "source": [
        "x_test=pd.DataFrame(powertran.transform(x_test),columns=x_test.columns)"
      ]
    },
    {
      "cell_type": "markdown",
      "metadata": {
        "id": "ANaWeapYgjcO"
      },
      "source": [
        "##### fill missing values"
      ]
    },
    {
      "cell_type": "code",
      "execution_count": 110,
      "metadata": {
        "id": "J-0j0sh4gjcR"
      },
      "outputs": [],
      "source": [
        "imputer=impute.SimpleImputer(missing_values=np.nan,strategy='median')\n",
        "imputer.fit(x_train)\n",
        "x_train=pd.DataFrame(imputer.transform(x_train),columns=x_train.columns)\n",
        "x_test=pd.DataFrame(imputer.transform(x_test),columns=x_train.columns)"
      ]
    },
    {
      "cell_type": "markdown",
      "metadata": {
        "id": "ooiqSjdhgjcS"
      },
      "source": [
        "##### scale features: not necessary as you did powertransformer already"
      ]
    },
    {
      "cell_type": "code",
      "execution_count": 111,
      "metadata": {
        "id": "C0MAO0rVgjcT"
      },
      "outputs": [],
      "source": [
        "scaler=preprocessing.StandardScaler()\n",
        "scaler.fit(x_train)\n",
        "x_train=pd.DataFrame(scaler.transform(x_train),columns=x_train.columns)\n",
        "x_test=pd.DataFrame(scaler.transform(x_test),columns=x_train.columns)"
      ]
    },
    {
      "cell_type": "markdown",
      "metadata": {
        "id": "1wiqwSwmgjcT"
      },
      "source": [
        "##### select feature"
      ]
    },
    {
      "cell_type": "code",
      "execution_count": 112,
      "metadata": {
        "colab": {
          "base_uri": "https://localhost:8080/"
        },
        "id": "L991cBP-gjcV",
        "outputId": "e8a0d682-de69-4f60-ac4d-d64fec06a5d6"
      },
      "outputs": [
        {
          "data": {
            "text/plain": [
              "15"
            ]
          },
          "execution_count": 112,
          "metadata": {},
          "output_type": "execute_result"
        }
      ],
      "source": [
        "n=len(x_train.columns)\n",
        "n"
      ]
    },
    {
      "cell_type": "code",
      "execution_count": null,
      "metadata": {
        "colab": {
          "base_uri": "https://localhost:8080/",
          "height": 262
        },
        "id": "IygZkCIpgjcW",
        "outputId": "d1b8de37-4f1b-4689-b40a-0ec016c17f49"
      },
      "outputs": [
        {
          "data": {
            "image/png": "[encoded data removed]",
            "text/plain": [
              "<Figure size 1500x500 with 15 Axes>"
            ]
          },
          "metadata": {},
          "output_type": "display_data"
        }
      ],
      "source": [
        "fig,ax=plt.subplots(3,5,figsize=(15,5),sharey=True)\n",
        "for i in np.arange(0,n):\n",
        "    col=x_train.columns[i]\n",
        "    ax[divmod(i,5)[0],divmod(i,5)[1]].scatter(x_train[col],y_train)\n",
        "    ax[divmod(i,5)[0],divmod(i,5)[1]].set_title(col)\n",
        "plt.show()"
      ]
    },
    {
      "cell_type": "code",
      "execution_count": 57,
      "metadata": {
        "colab": {
          "base_uri": "https://localhost:8080/",
          "height": 539
        },
        "id": "k2lqC1ajgjcX",
        "outputId": "e4be069b-7d30-49e0-ca9a-6c484d5da033"
      },
      "outputs": [
        {
          "data": {
            "text/html": [
              "<div>\n",
              "<style scoped>\n",
              "    .dataframe tbody tr th:only-of-type {\n",
              "        vertical-align: middle;\n",
              "    }\n",
              "\n",
              "    .dataframe tbody tr th {\n",
              "        vertical-align: top;\n",
              "    }\n",
              "\n",
              "    .dataframe thead th {\n",
              "        text-align: right;\n",
              "    }\n",
              "</style>\n",
              "<table border=\"1\" class=\"dataframe\">\n",
              "  <thead>\n",
              "    <tr style=\"text-align: right;\">\n",
              "      <th></th>\n",
              "      <th>actor_3_facebook_likes</th>\n",
              "      <th>facenumber_in_poster</th>\n",
              "      <th>actor_1_facebook_likes</th>\n",
              "      <th>duration</th>\n",
              "      <th>title_year</th>\n",
              "      <th>movie_facebook_likes</th>\n",
              "      <th>num_user_for_reviews</th>\n",
              "      <th>actor_2_facebook_likes</th>\n",
              "      <th>aspect_ratio</th>\n",
              "      <th>budget</th>\n",
              "      <th>director_facebook_likes</th>\n",
              "      <th>num_critic_for_reviews</th>\n",
              "      <th>cast_total_facebook_likes</th>\n",
              "      <th>gross</th>\n",
              "      <th>num_voted_users</th>\n",
              "    </tr>\n",
              "  </thead>\n",
              "  <tbody>\n",
              "    <tr>\n",
              "      <th>actor_3_facebook_likes</th>\n",
              "      <td>1.0</td>\n",
              "      <td></td>\n",
              "      <td></td>\n",
              "      <td></td>\n",
              "      <td></td>\n",
              "      <td></td>\n",
              "      <td></td>\n",
              "      <td>0.830951</td>\n",
              "      <td></td>\n",
              "      <td></td>\n",
              "      <td></td>\n",
              "      <td></td>\n",
              "      <td></td>\n",
              "      <td></td>\n",
              "      <td></td>\n",
              "    </tr>\n",
              "    <tr>\n",
              "      <th>facenumber_in_poster</th>\n",
              "      <td></td>\n",
              "      <td>1.0</td>\n",
              "      <td></td>\n",
              "      <td></td>\n",
              "      <td></td>\n",
              "      <td></td>\n",
              "      <td></td>\n",
              "      <td></td>\n",
              "      <td></td>\n",
              "      <td></td>\n",
              "      <td></td>\n",
              "      <td></td>\n",
              "      <td></td>\n",
              "      <td></td>\n",
              "      <td></td>\n",
              "    </tr>\n",
              "    <tr>\n",
              "      <th>actor_1_facebook_likes</th>\n",
              "      <td></td>\n",
              "      <td></td>\n",
              "      <td>1.0</td>\n",
              "      <td></td>\n",
              "      <td></td>\n",
              "      <td></td>\n",
              "      <td></td>\n",
              "      <td></td>\n",
              "      <td></td>\n",
              "      <td></td>\n",
              "      <td></td>\n",
              "      <td></td>\n",
              "      <td>0.96761</td>\n",
              "      <td></td>\n",
              "      <td></td>\n",
              "    </tr>\n",
              "    <tr>\n",
              "      <th>duration</th>\n",
              "      <td></td>\n",
              "      <td></td>\n",
              "      <td></td>\n",
              "      <td>1.0</td>\n",
              "      <td></td>\n",
              "      <td></td>\n",
              "      <td></td>\n",
              "      <td></td>\n",
              "      <td></td>\n",
              "      <td></td>\n",
              "      <td></td>\n",
              "      <td></td>\n",
              "      <td></td>\n",
              "      <td></td>\n",
              "      <td></td>\n",
              "    </tr>\n",
              "    <tr>\n",
              "      <th>title_year</th>\n",
              "      <td></td>\n",
              "      <td></td>\n",
              "      <td></td>\n",
              "      <td></td>\n",
              "      <td>1.0</td>\n",
              "      <td></td>\n",
              "      <td></td>\n",
              "      <td></td>\n",
              "      <td></td>\n",
              "      <td></td>\n",
              "      <td></td>\n",
              "      <td></td>\n",
              "      <td></td>\n",
              "      <td></td>\n",
              "      <td></td>\n",
              "    </tr>\n",
              "    <tr>\n",
              "      <th>movie_facebook_likes</th>\n",
              "      <td></td>\n",
              "      <td></td>\n",
              "      <td></td>\n",
              "      <td></td>\n",
              "      <td></td>\n",
              "      <td>1.0</td>\n",
              "      <td></td>\n",
              "      <td></td>\n",
              "      <td></td>\n",
              "      <td></td>\n",
              "      <td></td>\n",
              "      <td></td>\n",
              "      <td></td>\n",
              "      <td></td>\n",
              "      <td></td>\n",
              "    </tr>\n",
              "    <tr>\n",
              "      <th>num_user_for_reviews</th>\n",
              "      <td></td>\n",
              "      <td></td>\n",
              "      <td></td>\n",
              "      <td></td>\n",
              "      <td></td>\n",
              "      <td></td>\n",
              "      <td>1.0</td>\n",
              "      <td></td>\n",
              "      <td></td>\n",
              "      <td></td>\n",
              "      <td></td>\n",
              "      <td></td>\n",
              "      <td></td>\n",
              "      <td></td>\n",
              "      <td>0.896937</td>\n",
              "    </tr>\n",
              "    <tr>\n",
              "      <th>actor_2_facebook_likes</th>\n",
              "      <td>0.830951</td>\n",
              "      <td></td>\n",
              "      <td></td>\n",
              "      <td></td>\n",
              "      <td></td>\n",
              "      <td></td>\n",
              "      <td></td>\n",
              "      <td>1.0</td>\n",
              "      <td></td>\n",
              "      <td></td>\n",
              "      <td></td>\n",
              "      <td></td>\n",
              "      <td>0.832134</td>\n",
              "      <td></td>\n",
              "      <td></td>\n",
              "    </tr>\n",
              "    <tr>\n",
              "      <th>aspect_ratio</th>\n",
              "      <td></td>\n",
              "      <td></td>\n",
              "      <td></td>\n",
              "      <td></td>\n",
              "      <td></td>\n",
              "      <td></td>\n",
              "      <td></td>\n",
              "      <td></td>\n",
              "      <td>1.0</td>\n",
              "      <td></td>\n",
              "      <td></td>\n",
              "      <td></td>\n",
              "      <td></td>\n",
              "      <td></td>\n",
              "      <td></td>\n",
              "    </tr>\n",
              "    <tr>\n",
              "      <th>budget</th>\n",
              "      <td></td>\n",
              "      <td></td>\n",
              "      <td></td>\n",
              "      <td></td>\n",
              "      <td></td>\n",
              "      <td></td>\n",
              "      <td></td>\n",
              "      <td></td>\n",
              "      <td></td>\n",
              "      <td>1.0</td>\n",
              "      <td></td>\n",
              "      <td></td>\n",
              "      <td></td>\n",
              "      <td></td>\n",
              "      <td></td>\n",
              "    </tr>\n",
              "    <tr>\n",
              "      <th>director_facebook_likes</th>\n",
              "      <td></td>\n",
              "      <td></td>\n",
              "      <td></td>\n",
              "      <td></td>\n",
              "      <td></td>\n",
              "      <td></td>\n",
              "      <td></td>\n",
              "      <td></td>\n",
              "      <td></td>\n",
              "      <td></td>\n",
              "      <td>1.0</td>\n",
              "      <td></td>\n",
              "      <td></td>\n",
              "      <td></td>\n",
              "      <td></td>\n",
              "    </tr>\n",
              "    <tr>\n",
              "      <th>num_critic_for_reviews</th>\n",
              "      <td></td>\n",
              "      <td></td>\n",
              "      <td></td>\n",
              "      <td></td>\n",
              "      <td></td>\n",
              "      <td></td>\n",
              "      <td></td>\n",
              "      <td></td>\n",
              "      <td></td>\n",
              "      <td></td>\n",
              "      <td></td>\n",
              "      <td>1.0</td>\n",
              "      <td></td>\n",
              "      <td></td>\n",
              "      <td>0.800632</td>\n",
              "    </tr>\n",
              "    <tr>\n",
              "      <th>cast_total_facebook_likes</th>\n",
              "      <td></td>\n",
              "      <td></td>\n",
              "      <td>0.96761</td>\n",
              "      <td></td>\n",
              "      <td></td>\n",
              "      <td></td>\n",
              "      <td></td>\n",
              "      <td>0.832134</td>\n",
              "      <td></td>\n",
              "      <td></td>\n",
              "      <td></td>\n",
              "      <td></td>\n",
              "      <td>1.0</td>\n",
              "      <td></td>\n",
              "      <td></td>\n",
              "    </tr>\n",
              "    <tr>\n",
              "      <th>gross</th>\n",
              "      <td></td>\n",
              "      <td></td>\n",
              "      <td></td>\n",
              "      <td></td>\n",
              "      <td></td>\n",
              "      <td></td>\n",
              "      <td></td>\n",
              "      <td></td>\n",
              "      <td></td>\n",
              "      <td></td>\n",
              "      <td></td>\n",
              "      <td></td>\n",
              "      <td></td>\n",
              "      <td>1.0</td>\n",
              "      <td></td>\n",
              "    </tr>\n",
              "    <tr>\n",
              "      <th>num_voted_users</th>\n",
              "      <td></td>\n",
              "      <td></td>\n",
              "      <td></td>\n",
              "      <td></td>\n",
              "      <td></td>\n",
              "      <td></td>\n",
              "      <td>0.896937</td>\n",
              "      <td></td>\n",
              "      <td></td>\n",
              "      <td></td>\n",
              "      <td></td>\n",
              "      <td>0.800632</td>\n",
              "      <td></td>\n",
              "      <td></td>\n",
              "      <td>1.0</td>\n",
              "    </tr>\n",
              "  </tbody>\n",
              "</table>\n",
              "</div>"
            ],
            "text/plain": [
              "                          actor_3_facebook_likes facenumber_in_poster  \\\n",
              "actor_3_facebook_likes                       1.0                        \n",
              "facenumber_in_poster                                              1.0   \n",
              "actor_1_facebook_likes                                                  \n",
              "duration                                                                \n",
              "title_year                                                              \n",
              "movie_facebook_likes                                                    \n",
              "num_user_for_reviews                                                    \n",
              "actor_2_facebook_likes                  0.830951                        \n",
              "aspect_ratio                                                            \n",
              "budget                                                                  \n",
              "director_facebook_likes                                                 \n",
              "num_critic_for_reviews                                                  \n",
              "cast_total_facebook_likes                                               \n",
              "gross                                                                   \n",
              "num_voted_users                                                         \n",
              "\n",
              "                          actor_1_facebook_likes duration title_year  \\\n",
              "actor_3_facebook_likes                                                 \n",
              "facenumber_in_poster                                                   \n",
              "actor_1_facebook_likes                       1.0                       \n",
              "duration                                              1.0              \n",
              "title_year                                                       1.0   \n",
              "movie_facebook_likes                                                   \n",
              "num_user_for_reviews                                                   \n",
              "actor_2_facebook_likes                                                 \n",
              "aspect_ratio                                                           \n",
              "budget                                                                 \n",
              "director_facebook_likes                                                \n",
              "num_critic_for_reviews                                                 \n",
              "cast_total_facebook_likes                0.96761                       \n",
              "gross                                                                  \n",
              "num_voted_users                                                        \n",
              "\n",
              "                          movie_facebook_likes num_user_for_reviews  \\\n",
              "actor_3_facebook_likes                                                \n",
              "facenumber_in_poster                                                  \n",
              "actor_1_facebook_likes                                                \n",
              "duration                                                              \n",
              "title_year                                                            \n",
              "movie_facebook_likes                       1.0                        \n",
              "num_user_for_reviews                                            1.0   \n",
              "actor_2_facebook_likes                                                \n",
              "aspect_ratio                                                          \n",
              "budget                                                                \n",
              "director_facebook_likes                                               \n",
              "num_critic_for_reviews                                                \n",
              "cast_total_facebook_likes                                             \n",
              "gross                                                                 \n",
              "num_voted_users                                            0.896937   \n",
              "\n",
              "                          actor_2_facebook_likes aspect_ratio budget  \\\n",
              "actor_3_facebook_likes                  0.830951                       \n",
              "facenumber_in_poster                                                   \n",
              "actor_1_facebook_likes                                                 \n",
              "duration                                                               \n",
              "title_year                                                             \n",
              "movie_facebook_likes                                                   \n",
              "num_user_for_reviews                                                   \n",
              "actor_2_facebook_likes                       1.0                       \n",
              "aspect_ratio                                              1.0          \n",
              "budget                                                           1.0   \n",
              "director_facebook_likes                                                \n",
              "num_critic_for_reviews                                                 \n",
              "cast_total_facebook_likes               0.832134                       \n",
              "gross                                                                  \n",
              "num_voted_users                                                        \n",
              "\n",
              "                          director_facebook_likes num_critic_for_reviews  \\\n",
              "actor_3_facebook_likes                                                     \n",
              "facenumber_in_poster                                                       \n",
              "actor_1_facebook_likes                                                     \n",
              "duration                                                                   \n",
              "title_year                                                                 \n",
              "movie_facebook_likes                                                       \n",
              "num_user_for_reviews                                                       \n",
              "actor_2_facebook_likes                                                     \n",
              "aspect_ratio                                                               \n",
              "budget                                                                     \n",
              "director_facebook_likes                       1.0                          \n",
              "num_critic_for_reviews                                               1.0   \n",
              "cast_total_facebook_likes                                                  \n",
              "gross                                                                      \n",
              "num_voted_users                                                 0.800632   \n",
              "\n",
              "                          cast_total_facebook_likes gross num_voted_users  \n",
              "actor_3_facebook_likes                                                     \n",
              "facenumber_in_poster                                                       \n",
              "actor_1_facebook_likes                      0.96761                        \n",
              "duration                                                                   \n",
              "title_year                                                                 \n",
              "movie_facebook_likes                                                       \n",
              "num_user_for_reviews                                             0.896937  \n",
              "actor_2_facebook_likes                     0.832134                        \n",
              "aspect_ratio                                                               \n",
              "budget                                                                     \n",
              "director_facebook_likes                                                    \n",
              "num_critic_for_reviews                                           0.800632  \n",
              "cast_total_facebook_likes                       1.0                        \n",
              "gross                                                 1.0                  \n",
              "num_voted_users                                                       1.0  "
            ]
          },
          "execution_count": 114,
          "metadata": {},
          "output_type": "execute_result"
        }
      ],
      "source": [
        "x_train.corr().mask(x_train.corr().abs()<0.8,'')"
      ]
    },
    {
      "cell_type": "code",
      "execution_count": 58,
      "metadata": {
        "colab": {
          "base_uri": "https://localhost:8080/",
          "height": 581
        },
        "id": "GPoXxvK_gjcY",
        "outputId": "b272b969-9ec2-49d0-f36e-413fd4df178f"
      },
      "outputs": [
        {
          "data": {
            "text/plain": [
              "<Axes: >"
            ]
          },
          "execution_count": 115,
          "metadata": {},
          "output_type": "execute_result"
        },
        {
          "data": {
            "image/png": "[encoded data removed]",
            "text/plain": [
              "<Figure size 640x480 with 2 Axes>"
            ]
          },
          "metadata": {},
          "output_type": "display_data"
        }
      ],
      "source": [
        "sns.heatmap(x_train.corr(),annot=True,fmt='.1f',mask = np.triu(np.ones_like(x_train.corr(), dtype=bool))|(abs(x_train.corr())<0.7))"
      ]
    },
    {
      "cell_type": "code",
      "execution_count": 59,
      "metadata": {
        "colab": {
          "base_uri": "https://localhost:8080/",
          "height": 519
        },
        "id": "fjcs6wgAgjcZ",
        "outputId": "580a976d-f3bc-428e-b184-b18eb11e633c"
      },
      "outputs": [
        {
          "data": {
            "text/html": [
              "<div>\n",
              "<style scoped>\n",
              "    .dataframe tbody tr th:only-of-type {\n",
              "        vertical-align: middle;\n",
              "    }\n",
              "\n",
              "    .dataframe tbody tr th {\n",
              "        vertical-align: top;\n",
              "    }\n",
              "\n",
              "    .dataframe thead th {\n",
              "        text-align: right;\n",
              "    }\n",
              "</style>\n",
              "<table border=\"1\" class=\"dataframe\">\n",
              "  <thead>\n",
              "    <tr style=\"text-align: right;\">\n",
              "      <th></th>\n",
              "      <th>features</th>\n",
              "      <th>vif</th>\n",
              "    </tr>\n",
              "  </thead>\n",
              "  <tbody>\n",
              "    <tr>\n",
              "      <th>1</th>\n",
              "      <td>facenumber_in_poster</td>\n",
              "      <td>1.067956</td>\n",
              "    </tr>\n",
              "    <tr>\n",
              "      <th>10</th>\n",
              "      <td>director_facebook_likes</td>\n",
              "      <td>1.082957</td>\n",
              "    </tr>\n",
              "    <tr>\n",
              "      <th>5</th>\n",
              "      <td>movie_facebook_likes</td>\n",
              "      <td>1.088280</td>\n",
              "    </tr>\n",
              "    <tr>\n",
              "      <th>8</th>\n",
              "      <td>aspect_ratio</td>\n",
              "      <td>1.180205</td>\n",
              "    </tr>\n",
              "    <tr>\n",
              "      <th>3</th>\n",
              "      <td>duration</td>\n",
              "      <td>1.228234</td>\n",
              "    </tr>\n",
              "    <tr>\n",
              "      <th>9</th>\n",
              "      <td>budget</td>\n",
              "      <td>1.625332</td>\n",
              "    </tr>\n",
              "    <tr>\n",
              "      <th>13</th>\n",
              "      <td>gross</td>\n",
              "      <td>1.634747</td>\n",
              "    </tr>\n",
              "    <tr>\n",
              "      <th>4</th>\n",
              "      <td>title_year</td>\n",
              "      <td>1.670189</td>\n",
              "    </tr>\n",
              "    <tr>\n",
              "      <th>0</th>\n",
              "      <td>actor_3_facebook_likes</td>\n",
              "      <td>4.008806</td>\n",
              "    </tr>\n",
              "    <tr>\n",
              "      <th>11</th>\n",
              "      <td>num_critic_for_reviews</td>\n",
              "      <td>4.184276</td>\n",
              "    </tr>\n",
              "    <tr>\n",
              "      <th>7</th>\n",
              "      <td>actor_2_facebook_likes</td>\n",
              "      <td>4.982595</td>\n",
              "    </tr>\n",
              "    <tr>\n",
              "      <th>6</th>\n",
              "      <td>num_user_for_reviews</td>\n",
              "      <td>6.362953</td>\n",
              "    </tr>\n",
              "    <tr>\n",
              "      <th>14</th>\n",
              "      <td>num_voted_users</td>\n",
              "      <td>7.138904</td>\n",
              "    </tr>\n",
              "    <tr>\n",
              "      <th>2</th>\n",
              "      <td>actor_1_facebook_likes</td>\n",
              "      <td>22.863388</td>\n",
              "    </tr>\n",
              "    <tr>\n",
              "      <th>12</th>\n",
              "      <td>cast_total_facebook_likes</td>\n",
              "      <td>34.406482</td>\n",
              "    </tr>\n",
              "  </tbody>\n",
              "</table>\n",
              "</div>"
            ],
            "text/plain": [
              "                     features        vif\n",
              "1        facenumber_in_poster   1.067956\n",
              "10    director_facebook_likes   1.082957\n",
              "5        movie_facebook_likes   1.088280\n",
              "8                aspect_ratio   1.180205\n",
              "3                    duration   1.228234\n",
              "9                      budget   1.625332\n",
              "13                      gross   1.634747\n",
              "4                  title_year   1.670189\n",
              "0      actor_3_facebook_likes   4.008806\n",
              "11     num_critic_for_reviews   4.184276\n",
              "7      actor_2_facebook_likes   4.982595\n",
              "6        num_user_for_reviews   6.362953\n",
              "14            num_voted_users   7.138904\n",
              "2      actor_1_facebook_likes  22.863388\n",
              "12  cast_total_facebook_likes  34.406482"
            ]
          },
          "execution_count": 116,
          "metadata": {},
          "output_type": "execute_result"
        }
      ],
      "source": [
        "# VIF starts at 1 and has no upper limit\n",
        "# VIF = 1, no correlation between the independent variable and the other variables\n",
        "# VIF exceeding 5 or 10 indicates high multicollinearity between this independent variable and the others\n",
        "vif=pd.DataFrame()\n",
        "vif['features']=x_train.columns\n",
        "vif['vif']=[variance_inflation_factor(x_train.values,i) for i in range(x_train.shape[1])]\n",
        "vif.sort_values(by=['vif'])"
      ]
    },
    {
      "cell_type": "code",
      "execution_count": 60,
      "metadata": {
        "colab": {
          "base_uri": "https://localhost:8080/"
        },
        "id": "V-nmZlSZgjca",
        "outputId": "e9a50195-9f3e-4d98-ebbf-583f88cd442d"
      },
      "outputs": [
        {
          "data": {
            "text/plain": [
              "array([ 2,  3,  6,  9, 12, 14])"
            ]
          },
          "execution_count": 117,
          "metadata": {},
          "output_type": "execute_result"
        }
      ],
      "source": [
        "from sklearn.feature_selection import SelectFromModel\n",
        "selector = SelectFromModel(estimator=LogisticRegression(random_state=100)).fit(x_train, y_train)\n",
        "selector.get_support(indices=True)"
      ]
    },
    {
      "cell_type": "code",
      "execution_count": 61,
      "metadata": {
        "colab": {
          "base_uri": "https://localhost:8080/"
        },
        "id": "wF5YEiQVgjce",
        "outputId": "b80951b5-8eb7-4dd7-b946-8930cf9ff28d"
      },
      "outputs": [
        {
          "name": "stdout",
          "output_type": "stream",
          "text": [
            "actor_1_facebook_likes\n",
            "duration\n",
            "num_user_for_reviews\n",
            "budget\n",
            "cast_total_facebook_likes\n",
            "num_voted_users\n"
          ]
        }
      ],
      "source": [
        "for i in selector.get_support(indices=True).tolist():\n",
        "    print(x_train.columns[i])"
      ]
    },
    {
      "cell_type": "code",
      "execution_count": 62,
      "metadata": {
        "colab": {
          "base_uri": "https://localhost:8080/"
        },
        "id": "77PkGfImgjcg",
        "outputId": "164d53a2-ff4a-4bed-fbe2-c247ae70e4ce"
      },
      "outputs": [
        {
          "data": {
            "text/plain": [
              "['actor_1_facebook_likes',\n",
              " 'duration',\n",
              " 'num_user_for_reviews',\n",
              " 'budget',\n",
              " 'cast_total_facebook_likes',\n",
              " 'num_voted_users']"
            ]
          },
          "execution_count": 119,
          "metadata": {},
          "output_type": "execute_result"
        }
      ],
      "source": [
        "selected_features_1=x_train.columns[selector.get_support(indices=True)].tolist()\n",
        "selected_features_1"
      ]
    },
    {
      "cell_type": "code",
      "execution_count": 63,
      "metadata": {
        "id": "M0RUUekzgjch"
      },
      "outputs": [],
      "source": [
        "selected_features=list(set(x_train.columns)-set(['actor_1_facebook_likes','actor_2_facebook_likes','actor_3_facebook_likes','num_critic_for_reviews','num_user_for_reviews']))"
      ]
    },
    {
      "cell_type": "code",
      "execution_count": 64,
      "metadata": {
        "colab": {
          "base_uri": "https://localhost:8080/",
          "height": 383
        },
        "id": "U-5V8kA6gjch",
        "outputId": "57341cf7-078b-4a62-fde2-c607c1397335"
      },
      "outputs": [
        {
          "data": {
            "text/html": [
              "<div>\n",
              "<style scoped>\n",
              "    .dataframe tbody tr th:only-of-type {\n",
              "        vertical-align: middle;\n",
              "    }\n",
              "\n",
              "    .dataframe tbody tr th {\n",
              "        vertical-align: top;\n",
              "    }\n",
              "\n",
              "    .dataframe thead th {\n",
              "        text-align: right;\n",
              "    }\n",
              "</style>\n",
              "<table border=\"1\" class=\"dataframe\">\n",
              "  <thead>\n",
              "    <tr style=\"text-align: right;\">\n",
              "      <th></th>\n",
              "      <th>aspect_ratio</th>\n",
              "      <th>facenumber_in_poster</th>\n",
              "      <th>budget</th>\n",
              "      <th>director_facebook_likes</th>\n",
              "      <th>cast_total_facebook_likes</th>\n",
              "      <th>duration</th>\n",
              "      <th>title_year</th>\n",
              "      <th>movie_facebook_likes</th>\n",
              "      <th>gross</th>\n",
              "      <th>num_voted_users</th>\n",
              "    </tr>\n",
              "  </thead>\n",
              "  <tbody>\n",
              "    <tr>\n",
              "      <th>aspect_ratio</th>\n",
              "      <td>1.0</td>\n",
              "      <td></td>\n",
              "      <td></td>\n",
              "      <td></td>\n",
              "      <td></td>\n",
              "      <td></td>\n",
              "      <td></td>\n",
              "      <td></td>\n",
              "      <td></td>\n",
              "      <td></td>\n",
              "    </tr>\n",
              "    <tr>\n",
              "      <th>facenumber_in_poster</th>\n",
              "      <td></td>\n",
              "      <td>1.0</td>\n",
              "      <td></td>\n",
              "      <td></td>\n",
              "      <td></td>\n",
              "      <td></td>\n",
              "      <td></td>\n",
              "      <td></td>\n",
              "      <td></td>\n",
              "      <td></td>\n",
              "    </tr>\n",
              "    <tr>\n",
              "      <th>budget</th>\n",
              "      <td></td>\n",
              "      <td></td>\n",
              "      <td>1.0</td>\n",
              "      <td></td>\n",
              "      <td></td>\n",
              "      <td></td>\n",
              "      <td></td>\n",
              "      <td></td>\n",
              "      <td></td>\n",
              "      <td></td>\n",
              "    </tr>\n",
              "    <tr>\n",
              "      <th>director_facebook_likes</th>\n",
              "      <td></td>\n",
              "      <td></td>\n",
              "      <td></td>\n",
              "      <td>1.0</td>\n",
              "      <td></td>\n",
              "      <td></td>\n",
              "      <td></td>\n",
              "      <td></td>\n",
              "      <td></td>\n",
              "      <td></td>\n",
              "    </tr>\n",
              "    <tr>\n",
              "      <th>cast_total_facebook_likes</th>\n",
              "      <td></td>\n",
              "      <td></td>\n",
              "      <td></td>\n",
              "      <td></td>\n",
              "      <td>1.0</td>\n",
              "      <td></td>\n",
              "      <td></td>\n",
              "      <td></td>\n",
              "      <td></td>\n",
              "      <td></td>\n",
              "    </tr>\n",
              "    <tr>\n",
              "      <th>duration</th>\n",
              "      <td></td>\n",
              "      <td></td>\n",
              "      <td></td>\n",
              "      <td></td>\n",
              "      <td></td>\n",
              "      <td>1.0</td>\n",
              "      <td></td>\n",
              "      <td></td>\n",
              "      <td></td>\n",
              "      <td></td>\n",
              "    </tr>\n",
              "    <tr>\n",
              "      <th>title_year</th>\n",
              "      <td></td>\n",
              "      <td></td>\n",
              "      <td></td>\n",
              "      <td></td>\n",
              "      <td></td>\n",
              "      <td></td>\n",
              "      <td>1.0</td>\n",
              "      <td></td>\n",
              "      <td></td>\n",
              "      <td></td>\n",
              "    </tr>\n",
              "    <tr>\n",
              "      <th>movie_facebook_likes</th>\n",
              "      <td></td>\n",
              "      <td></td>\n",
              "      <td></td>\n",
              "      <td></td>\n",
              "      <td></td>\n",
              "      <td></td>\n",
              "      <td></td>\n",
              "      <td>1.0</td>\n",
              "      <td></td>\n",
              "      <td></td>\n",
              "    </tr>\n",
              "    <tr>\n",
              "      <th>gross</th>\n",
              "      <td></td>\n",
              "      <td></td>\n",
              "      <td></td>\n",
              "      <td></td>\n",
              "      <td></td>\n",
              "      <td></td>\n",
              "      <td></td>\n",
              "      <td></td>\n",
              "      <td>1.0</td>\n",
              "      <td></td>\n",
              "    </tr>\n",
              "    <tr>\n",
              "      <th>num_voted_users</th>\n",
              "      <td></td>\n",
              "      <td></td>\n",
              "      <td></td>\n",
              "      <td></td>\n",
              "      <td></td>\n",
              "      <td></td>\n",
              "      <td></td>\n",
              "      <td></td>\n",
              "      <td></td>\n",
              "      <td>1.0</td>\n",
              "    </tr>\n",
              "  </tbody>\n",
              "</table>\n",
              "</div>"
            ],
            "text/plain": [
              "                          aspect_ratio facenumber_in_poster budget  \\\n",
              "aspect_ratio                       1.0                               \n",
              "facenumber_in_poster                                    1.0          \n",
              "budget                                                         1.0   \n",
              "director_facebook_likes                                              \n",
              "cast_total_facebook_likes                                            \n",
              "duration                                                             \n",
              "title_year                                                           \n",
              "movie_facebook_likes                                                 \n",
              "gross                                                                \n",
              "num_voted_users                                                      \n",
              "\n",
              "                          director_facebook_likes cast_total_facebook_likes  \\\n",
              "aspect_ratio                                                                  \n",
              "facenumber_in_poster                                                          \n",
              "budget                                                                        \n",
              "director_facebook_likes                       1.0                             \n",
              "cast_total_facebook_likes                                               1.0   \n",
              "duration                                                                      \n",
              "title_year                                                                    \n",
              "movie_facebook_likes                                                          \n",
              "gross                                                                         \n",
              "num_voted_users                                                               \n",
              "\n",
              "                          duration title_year movie_facebook_likes gross  \\\n",
              "aspect_ratio                                                               \n",
              "facenumber_in_poster                                                       \n",
              "budget                                                                     \n",
              "director_facebook_likes                                                    \n",
              "cast_total_facebook_likes                                                  \n",
              "duration                       1.0                                         \n",
              "title_year                                1.0                              \n",
              "movie_facebook_likes                                           1.0         \n",
              "gross                                                                1.0   \n",
              "num_voted_users                                                            \n",
              "\n",
              "                          num_voted_users  \n",
              "aspect_ratio                               \n",
              "facenumber_in_poster                       \n",
              "budget                                     \n",
              "director_facebook_likes                    \n",
              "cast_total_facebook_likes                  \n",
              "duration                                   \n",
              "title_year                                 \n",
              "movie_facebook_likes                       \n",
              "gross                                      \n",
              "num_voted_users                       1.0  "
            ]
          },
          "execution_count": 121,
          "metadata": {},
          "output_type": "execute_result"
        }
      ],
      "source": [
        "x_train[selected_features].corr().mask(x_train[selected_features].corr().abs()<0.7,'')"
      ]
    },
    {
      "cell_type": "code",
      "execution_count": 65,
      "metadata": {
        "colab": {
          "base_uri": "https://localhost:8080/",
          "height": 363
        },
        "id": "QV9tKkclgjcj",
        "outputId": "40b88c7b-d02d-43a9-a8e6-90b5005fa712"
      },
      "outputs": [
        {
          "data": {
            "text/html": [
              "<div>\n",
              "<style scoped>\n",
              "    .dataframe tbody tr th:only-of-type {\n",
              "        vertical-align: middle;\n",
              "    }\n",
              "\n",
              "    .dataframe tbody tr th {\n",
              "        vertical-align: top;\n",
              "    }\n",
              "\n",
              "    .dataframe thead th {\n",
              "        text-align: right;\n",
              "    }\n",
              "</style>\n",
              "<table border=\"1\" class=\"dataframe\">\n",
              "  <thead>\n",
              "    <tr style=\"text-align: right;\">\n",
              "      <th></th>\n",
              "      <th>features</th>\n",
              "      <th>vif</th>\n",
              "    </tr>\n",
              "  </thead>\n",
              "  <tbody>\n",
              "    <tr>\n",
              "      <th>1</th>\n",
              "      <td>facenumber_in_poster</td>\n",
              "      <td>1.034982</td>\n",
              "    </tr>\n",
              "    <tr>\n",
              "      <th>7</th>\n",
              "      <td>movie_facebook_likes</td>\n",
              "      <td>1.071237</td>\n",
              "    </tr>\n",
              "    <tr>\n",
              "      <th>3</th>\n",
              "      <td>director_facebook_likes</td>\n",
              "      <td>1.079528</td>\n",
              "    </tr>\n",
              "    <tr>\n",
              "      <th>0</th>\n",
              "      <td>aspect_ratio</td>\n",
              "      <td>1.171700</td>\n",
              "    </tr>\n",
              "    <tr>\n",
              "      <th>5</th>\n",
              "      <td>duration</td>\n",
              "      <td>1.209956</td>\n",
              "    </tr>\n",
              "    <tr>\n",
              "      <th>6</th>\n",
              "      <td>title_year</td>\n",
              "      <td>1.271373</td>\n",
              "    </tr>\n",
              "    <tr>\n",
              "      <th>4</th>\n",
              "      <td>cast_total_facebook_likes</td>\n",
              "      <td>1.427196</td>\n",
              "    </tr>\n",
              "    <tr>\n",
              "      <th>8</th>\n",
              "      <td>gross</td>\n",
              "      <td>1.576121</td>\n",
              "    </tr>\n",
              "    <tr>\n",
              "      <th>2</th>\n",
              "      <td>budget</td>\n",
              "      <td>1.615244</td>\n",
              "    </tr>\n",
              "    <tr>\n",
              "      <th>9</th>\n",
              "      <td>num_voted_users</td>\n",
              "      <td>1.971153</td>\n",
              "    </tr>\n",
              "  </tbody>\n",
              "</table>\n",
              "</div>"
            ],
            "text/plain": [
              "                    features       vif\n",
              "1       facenumber_in_poster  1.034982\n",
              "7       movie_facebook_likes  1.071237\n",
              "3    director_facebook_likes  1.079528\n",
              "0               aspect_ratio  1.171700\n",
              "5                   duration  1.209956\n",
              "6                 title_year  1.271373\n",
              "4  cast_total_facebook_likes  1.427196\n",
              "8                      gross  1.576121\n",
              "2                     budget  1.615244\n",
              "9            num_voted_users  1.971153"
            ]
          },
          "execution_count": 122,
          "metadata": {},
          "output_type": "execute_result"
        }
      ],
      "source": [
        "vif_after=pd.DataFrame()\n",
        "vif_after['features']=x_train[selected_features].columns\n",
        "vif_after['vif']=[variance_inflation_factor(x_train[selected_features].values,i) for i in range(x_train[selected_features].shape[1])]\n",
        "vif_after.sort_values(by=['vif'])"
      ]
    },
    {
      "cell_type": "markdown",
      "metadata": {
        "id": "RaMxz5qXgjcj"
      },
      "source": [
        "#### Model"
      ]
    },
    {
      "cell_type": "markdown",
      "metadata": {
        "id": "ZXAvZ3Qzgjck"
      },
      "source": [
        "##### train"
      ]
    },
    {
      "cell_type": "code",
      "execution_count": 66,
      "metadata": {
        "colab": {
          "base_uri": "https://localhost:8080/",
          "height": 80
        },
        "id": "0zs_8ND2gjcm",
        "outputId": "dbba5769-3c97-429b-e80e-6aae75542d03"
      },
      "outputs": [],
      "source": [
        "# lr=LogisticRegression(random_state=100)\n",
        "# lr.fit(x_train[selected_features],y_train)"
      ]
    },
    {
      "cell_type": "code",
      "execution_count": 67,
      "metadata": {},
      "outputs": [
        {
          "data": {
            "text/html": [
              "<style>#sk-container-id-1 {color: black;background-color: white;}#sk-container-id-1 pre{padding: 0;}#sk-container-id-1 div.sk-toggleable {background-color: white;}#sk-container-id-1 label.sk-toggleable__label {cursor: pointer;display: block;width: 100%;margin-bottom: 0;padding: 0.3em;box-sizing: border-box;text-align: center;}#sk-container-id-1 label.sk-toggleable__label-arrow:before {content: \"▸\";float: left;margin-right: 0.25em;color: #696969;}#sk-container-id-1 label.sk-toggleable__label-arrow:hover:before {color: black;}#sk-container-id-1 div.sk-estimator:hover label.sk-toggleable__label-arrow:before {color: black;}#sk-container-id-1 div.sk-toggleable__content {max-height: 0;max-width: 0;overflow: hidden;text-align: left;background-color: #f0f8ff;}#sk-container-id-1 div.sk-toggleable__content pre {margin: 0.2em;color: black;border-radius: 0.25em;background-color: #f0f8ff;}#sk-container-id-1 input.sk-toggleable__control:checked~div.sk-toggleable__content {max-height: 200px;max-width: 100%;overflow: auto;}#sk-container-id-1 input.sk-toggleable__control:checked~label.sk-toggleable__label-arrow:before {content: \"▾\";}#sk-container-id-1 div.sk-estimator input.sk-toggleable__control:checked~label.sk-toggleable__label {background-color: #d4ebff;}#sk-container-id-1 div.sk-label input.sk-toggleable__control:checked~label.sk-toggleable__label {background-color: #d4ebff;}#sk-container-id-1 input.sk-hidden--visually {border: 0;clip: rect(1px 1px 1px 1px);clip: rect(1px, 1px, 1px, 1px);height: 1px;margin: -1px;overflow: hidden;padding: 0;position: absolute;width: 1px;}#sk-container-id-1 div.sk-estimator {font-family: monospace;background-color: #f0f8ff;border: 1px dotted black;border-radius: 0.25em;box-sizing: border-box;margin-bottom: 0.5em;}#sk-container-id-1 div.sk-estimator:hover {background-color: #d4ebff;}#sk-container-id-1 div.sk-parallel-item::after {content: \"\";width: 100%;border-bottom: 1px solid gray;flex-grow: 1;}#sk-container-id-1 div.sk-label:hover label.sk-toggleable__label {background-color: #d4ebff;}#sk-container-id-1 div.sk-serial::before {content: \"\";position: absolute;border-left: 1px solid gray;box-sizing: border-box;top: 0;bottom: 0;left: 50%;z-index: 0;}#sk-container-id-1 div.sk-serial {display: flex;flex-direction: column;align-items: center;background-color: white;padding-right: 0.2em;padding-left: 0.2em;position: relative;}#sk-container-id-1 div.sk-item {position: relative;z-index: 1;}#sk-container-id-1 div.sk-parallel {display: flex;align-items: stretch;justify-content: center;background-color: white;position: relative;}#sk-container-id-1 div.sk-item::before, #sk-container-id-1 div.sk-parallel-item::before {content: \"\";position: absolute;border-left: 1px solid gray;box-sizing: border-box;top: 0;bottom: 0;left: 50%;z-index: -1;}#sk-container-id-1 div.sk-parallel-item {display: flex;flex-direction: column;z-index: 1;position: relative;background-color: white;}#sk-container-id-1 div.sk-parallel-item:first-child::after {align-self: flex-end;width: 50%;}#sk-container-id-1 div.sk-parallel-item:last-child::after {align-self: flex-start;width: 50%;}#sk-container-id-1 div.sk-parallel-item:only-child::after {width: 0;}#sk-container-id-1 div.sk-dashed-wrapped {border: 1px dashed gray;margin: 0 0.4em 0.5em 0.4em;box-sizing: border-box;padding-bottom: 0.4em;background-color: white;}#sk-container-id-1 div.sk-label label {font-family: monospace;font-weight: bold;display: inline-block;line-height: 1.2em;}#sk-container-id-1 div.sk-label-container {text-align: center;}#sk-container-id-1 div.sk-container {/* jupyter's `normalize.less` sets `[hidden] { display: none; }` but bootstrap.min.css set `[hidden] { display: none !important; }` so we also need the `!important` here to be able to override the default hidden behavior on the sphinx rendered scikit-learn.org. See: https://github.com/scikit-learn/scikit-learn/issues/21755 */display: inline-block !important;position: relative;}#sk-container-id-1 div.sk-text-repr-fallback {display: none;}</style><div id=\"sk-container-id-1\" class=\"sk-top-container\"><div class=\"sk-text-repr-fallback\"><pre>KNeighborsClassifier()</pre><b>In a Jupyter environment, please rerun this cell to show the HTML representation or trust the notebook. <br />On GitHub, the HTML representation is unable to render, please try loading this page with nbviewer.org.</b></div><div class=\"sk-container\" hidden><div class=\"sk-item\"><div class=\"sk-estimator sk-toggleable\"><input class=\"sk-toggleable__control sk-hidden--visually\" id=\"sk-estimator-id-1\" type=\"checkbox\" checked><label for=\"sk-estimator-id-1\" class=\"sk-toggleable__label sk-toggleable__label-arrow\">KNeighborsClassifier</label><div class=\"sk-toggleable__content\"><pre>KNeighborsClassifier()</pre></div></div></div></div></div>"
            ],
            "text/plain": [
              "KNeighborsClassifier()"
            ]
          },
          "execution_count": 124,
          "metadata": {},
          "output_type": "execute_result"
        }
      ],
      "source": [
        "knn = KNeighborsClassifier(n_neighbors=5)\n",
        "knn.fit(x_train[selected_features],y_train)"
      ]
    },
    {
      "cell_type": "code",
      "execution_count": null,
      "metadata": {
        "id": "nQKo4QXUgjcm"
      },
      "outputs": [],
      "source": [
        "y_train_pred= knn.predict(x_train[selected_features])"
      ]
    },
    {
      "cell_type": "code",
      "execution_count": null,
      "metadata": {
        "colab": {
          "base_uri": "https://localhost:8080/",
          "height": 658
        },
        "id": "USTCXfkCgjcm",
        "outputId": "23f843a8-4b71-4e23-8576-ff09b1580f84"
      },
      "outputs": [
        {
          "name": "stdout",
          "output_type": "stream",
          "text": [
            "Classification Report: \n",
            "               precision    recall  f1-score   support\n",
            "\n",
            "    imdb_low       0.81      0.89      0.85      1480\n",
            "   imdb_high       0.88      0.79      0.83      1493\n",
            "\n",
            "    accuracy                           0.84      2973\n",
            "   macro avg       0.84      0.84      0.84      2973\n",
            "weighted avg       0.84      0.84      0.84      2973\n",
            "\n",
            "Accuracy on train:   0.8382105617221661 \n",
            "\n"
          ]
        },
        {
          "data": {
            "image/png": "[encoded data removed]",
            "text/plain": [
              "<Figure size 640x480 with 2 Axes>"
            ]
          },
          "metadata": {},
          "output_type": "display_data"
        }
      ],
      "source": [
        "print(\"Classification Report: \\n\", metrics.classification_report(y_train, y_train_pred,target_names=y_labels))\n",
        "print(\"Accuracy on train:  \",knn.score(x_train[selected_features],y_train),'\\n')\n",
        "cf=metrics.confusion_matrix(y_train,y_train_pred)\n",
        "sns.heatmap(cf,annot=True,cmap='Blues',yticklabels=y_labels,xticklabels=y_labels)\n",
        "plt.ylabel(\"True Label\")\n",
        "plt.xlabel(\"Predict Label\")\n",
        "plt.show()\n"
      ]
    },
    {
      "cell_type": "markdown",
      "metadata": {
        "id": "sdhqXLdNgjcn"
      },
      "source": [
        "##### test"
      ]
    },
    {
      "cell_type": "code",
      "execution_count": null,
      "metadata": {
        "id": "jwhiRkfbgjco"
      },
      "outputs": [],
      "source": [
        "y_test_pred=pd.DataFrame(knn.predict(x_test[selected_features]))"
      ]
    },
    {
      "cell_type": "markdown",
      "metadata": {
        "id": "QEic_jyKgjcp"
      },
      "source": [
        "#### Validation"
      ]
    },
    {
      "cell_type": "code",
      "execution_count": null,
      "metadata": {
        "colab": {
          "base_uri": "https://localhost:8080/",
          "height": 658
        },
        "id": "-714bQB0gjcp",
        "outputId": "8b6fe478-ac9d-44ce-92c6-3f0338a3e333"
      },
      "outputs": [
        {
          "name": "stdout",
          "output_type": "stream",
          "text": [
            "Classification Report: \n",
            "               precision    recall  f1-score   support\n",
            "\n",
            "    imdb_low       0.74      0.82      0.78       635\n",
            "   imdb_high       0.80      0.72      0.76       640\n",
            "\n",
            "    accuracy                           0.77      1275\n",
            "   macro avg       0.77      0.77      0.77      1275\n",
            "weighted avg       0.77      0.77      0.77      1275\n",
            "\n",
            "Accuracy on train:   0.7686274509803922 \n",
            "\n"
          ]
        },
        {
          "data": {
            "image/png": "[encoded data removed]",
            "text/plain": [
              "<Figure size 640x480 with 2 Axes>"
            ]
          },
          "metadata": {},
          "output_type": "display_data"
        }
      ],
      "source": [
        "print(\"Classification Report: \\n\", metrics.classification_report(y_test, y_test_pred,target_names=y_labels))\n",
        "print(\"Accuracy on train:  \",knn.score(x_test[selected_features],y_test),'\\n')\n",
        "cf=metrics.confusion_matrix(y_test,y_test_pred)\n",
        "sns.heatmap(cf,annot=True,cmap='Blues',yticklabels=y_labels,xticklabels=y_labels)\n",
        "plt.ylabel(\"True Label\")\n",
        "plt.xlabel(\"Predict Label\")\n",
        "plt.show()\n"
      ]
    },
    {
      "cell_type": "code",
      "execution_count": null,
      "metadata": {
        "colab": {
          "base_uri": "https://localhost:8080/",
          "height": 394
        },
        "id": "5yShuXiKgjcq",
        "outputId": "e4c6d895-1081-4b2f-a963-145834db1692"
      },
      "outputs": [
        {
          "data": {
            "text/plain": [
              "{'algorithm': 'auto',\n",
              " 'leaf_size': 30,\n",
              " 'metric': 'minkowski',\n",
              " 'metric_params': None,\n",
              " 'n_jobs': None,\n",
              " 'n_neighbors': 5,\n",
              " 'p': 2,\n",
              " 'weights': 'uniform'}"
            ]
          },
          "execution_count": 144,
          "metadata": {},
          "output_type": "execute_result"
        }
      ],
      "source": [
        "knn.get_params()"
      ]
    },
    {
      "cell_type": "code",
      "execution_count": null,
      "metadata": {
        "colab": {
          "base_uri": "https://localhost:8080/",
          "height": 531
        },
        "id": "89dR-QXkgjcq",
        "outputId": "8bf2eca6-fa8b-4514-e63e-6471498adfd3"
      },
      "outputs": [
        {
          "data": {
            "image/png": "[encoded data removed]",
            "text/plain": [
              "<Figure size 800x550 with 1 Axes>"
            ]
          },
          "metadata": {},
          "output_type": "display_data"
        },
        {
          "data": {
            "text/plain": [
              "<Axes: title={'center': 'ROC Curves for LogisticRegression'}, xlabel='False Positive Rate', ylabel='True Positive Rate'>"
            ]
          },
          "execution_count": 64,
          "metadata": {},
          "output_type": "execute_result"
        }
      ],
      "source": [
        "from yellowbrick.classifier import ROCAUC\n",
        "visualizer = ROCAUC(LogisticRegression(random_state=100), classes=y_labels)\n",
        "visualizer.fit(x_train[selected_features], y_train)        # Fit the training data to the visualizer\n",
        "visualizer.score(x_test[selected_features], y_test)        # Evaluate the model on the test data\n",
        "visualizer.show()"
      ]
    },
    {
      "cell_type": "markdown",
      "metadata": {
        "id": "bB1C7wz3gjcr"
      },
      "source": [
        "#### All features Model"
      ]
    },
    {
      "cell_type": "code",
      "execution_count": null,
      "metadata": {
        "colab": {
          "base_uri": "https://localhost:8080/",
          "height": 677
        },
        "id": "R8HQ_uADgjcr",
        "outputId": "8ae591c3-5d84-438e-f9ff-0dcceb0789e5"
      },
      "outputs": [
        {
          "name": "stdout",
          "output_type": "stream",
          "text": [
            "Classification Report: \n",
            "               precision    recall  f1-score   support\n",
            "\n",
            "    imdb_low       0.75      0.76      0.76       635\n",
            "   imdb_high       0.76      0.75      0.75       640\n",
            "\n",
            "    accuracy                           0.75      1275\n",
            "   macro avg       0.75      0.75      0.75      1275\n",
            "weighted avg       0.75      0.75      0.75      1275\n",
            "\n"
          ]
        },
        {
          "data": {
            "image/png": "[encoded data removed]",
            "text/plain": [
              "<Figure size 800x550 with 2 Axes>"
            ]
          },
          "metadata": {},
          "output_type": "display_data"
        }
      ],
      "source": [
        "lr_all=LogisticRegression()\n",
        "lr_all.fit(x_train,y_train)\n",
        "y_test_pred_all=pd.DataFrame(lr_all.predict(x_test))\n",
        "print(\"Classification Report: \\n\", metrics.classification_report(y_test, y_test_pred,target_names=y_labels))\n",
        "cf=metrics.confusion_matrix(y_test,y_test_pred)\n",
        "sns.heatmap(cf,annot=True,cmap='Blues',fmt='.0f',yticklabels=y_labels,xticklabels=y_labels)\n",
        "plt.ylabel(\"True Label\")\n",
        "plt.xlabel(\"Predict Label\")\n",
        "plt.show()"
      ]
    },
    {
      "cell_type": "code",
      "execution_count": null,
      "metadata": {
        "colab": {
          "base_uri": "https://localhost:8080/",
          "height": 531
        },
        "id": "BKxh72Mggjcs",
        "outputId": "d575c460-2930-4294-9483-0628dcf42733"
      },
      "outputs": [
        {
          "data": {
            "image/png": "[encoded data removed]",
            "text/plain": [
              "<Figure size 800x550 with 1 Axes>"
            ]
          },
          "metadata": {},
          "output_type": "display_data"
        },
        {
          "data": {
            "text/plain": [
              "<Axes: title={'center': 'ROC Curves for LogisticRegression'}, xlabel='False Positive Rate', ylabel='True Positive Rate'>"
            ]
          },
          "execution_count": 66,
          "metadata": {},
          "output_type": "execute_result"
        }
      ],
      "source": [
        "from yellowbrick.classifier import ROCAUC\n",
        "visualizer = ROCAUC(LogisticRegression(), classes=y_labels)\n",
        "visualizer.fit(x_train, y_train)        # Fit the training data to the visualizer\n",
        "visualizer.score(x_test, y_test)        # Evaluate the model on the test data\n",
        "visualizer.show()"
      ]
    },
    {
      "cell_type": "code",
      "execution_count": null,
      "metadata": {
        "colab": {
          "base_uri": "https://localhost:8080/",
          "height": 551
        },
        "id": "E8ckERn8gjct",
        "outputId": "ca1a2556-2476-403d-bade-f157c7fc6ab3"
      },
      "outputs": [
        {
          "data": {
            "application/vnd.google.colaboratory.intrinsic+json": {
              "summary": "{\n  \"name\": \"result_all\",\n  \"rows\": 16,\n  \"fields\": [\n    {\n      \"column\": \"features\",\n      \"properties\": {\n        \"dtype\": \"string\",\n        \"num_unique_values\": 16,\n        \"samples\": [\n          \"budget\",\n          \"cast_total_facebook_likes\",\n          \"gross\"\n        ],\n        \"semantic_type\": \"\",\n        \"description\": \"\"\n      }\n    },\n    {\n      \"column\": \"coef\",\n      \"properties\": {\n        \"dtype\": \"number\",\n        \"std\": 0.5819328395251748,\n        \"min\": -0.6395422702229444,\n        \"max\": 1.8438882241818677,\n        \"num_unique_values\": 16,\n        \"samples\": [\n          -0.6395422702229444,\n          -0.5947796036146591,\n          -0.24753065552472556\n        ],\n        \"semantic_type\": \"\",\n        \"description\": \"\"\n      }\n    },\n    {\n      \"column\": \"exp_coef\",\n      \"properties\": {\n        \"dtype\": \"number\",\n        \"std\": 1.3763589035456465,\n        \"min\": 0.5275338367334224,\n        \"max\": 6.321068271540963,\n        \"num_unique_values\": 16,\n        \"samples\": [\n          0.5275338367334224,\n          0.5516841416605769,\n          0.7807262868700828\n        ],\n        \"semantic_type\": \"\",\n        \"description\": \"\"\n      }\n    }\n  ]\n}",
              "type": "dataframe"
            },
            "text/html": [
              "\n",
              "  <div id=\"df-0d12e3cd-32e4-4cf8-9470-d5fa4144a938\" class=\"colab-df-container\">\n",
              "    <div>\n",
              "<style scoped>\n",
              "    .dataframe tbody tr th:only-of-type {\n",
              "        vertical-align: middle;\n",
              "    }\n",
              "\n",
              "    .dataframe tbody tr th {\n",
              "        vertical-align: top;\n",
              "    }\n",
              "\n",
              "    .dataframe thead th {\n",
              "        text-align: right;\n",
              "    }\n",
              "</style>\n",
              "<table border=\"1\" class=\"dataframe\">\n",
              "  <thead>\n",
              "    <tr style=\"text-align: right;\">\n",
              "      <th></th>\n",
              "      <th>features</th>\n",
              "      <th>coef</th>\n",
              "      <th>exp_coef</th>\n",
              "    </tr>\n",
              "  </thead>\n",
              "  <tbody>\n",
              "    <tr>\n",
              "      <th>10</th>\n",
              "      <td>budget</td>\n",
              "      <td>-0.639542</td>\n",
              "      <td>0.527534</td>\n",
              "    </tr>\n",
              "    <tr>\n",
              "      <th>6</th>\n",
              "      <td>cast_total_facebook_likes</td>\n",
              "      <td>-0.594780</td>\n",
              "      <td>0.551684</td>\n",
              "    </tr>\n",
              "    <tr>\n",
              "      <th>11</th>\n",
              "      <td>num_user_for_reviews</td>\n",
              "      <td>-0.533066</td>\n",
              "      <td>0.586803</td>\n",
              "    </tr>\n",
              "    <tr>\n",
              "      <th>4</th>\n",
              "      <td>title_year</td>\n",
              "      <td>-0.332823</td>\n",
              "      <td>0.716897</td>\n",
              "    </tr>\n",
              "    <tr>\n",
              "      <th>5</th>\n",
              "      <td>actor_3_facebook_likes</td>\n",
              "      <td>-0.280827</td>\n",
              "      <td>0.755159</td>\n",
              "    </tr>\n",
              "    <tr>\n",
              "      <th>14</th>\n",
              "      <td>gross</td>\n",
              "      <td>-0.247531</td>\n",
              "      <td>0.780726</td>\n",
              "    </tr>\n",
              "    <tr>\n",
              "      <th>0</th>\n",
              "      <td>facenumber_in_poster</td>\n",
              "      <td>-0.103388</td>\n",
              "      <td>0.901777</td>\n",
              "    </tr>\n",
              "    <tr>\n",
              "      <th>1</th>\n",
              "      <td>actor_2_facebook_likes</td>\n",
              "      <td>0.007886</td>\n",
              "      <td>1.007917</td>\n",
              "    </tr>\n",
              "    <tr>\n",
              "      <th>3</th>\n",
              "      <td>aspect_ratio</td>\n",
              "      <td>0.025371</td>\n",
              "      <td>1.025695</td>\n",
              "    </tr>\n",
              "    <tr>\n",
              "      <th>13</th>\n",
              "      <td>director_facebook_likes</td>\n",
              "      <td>0.027312</td>\n",
              "      <td>1.027688</td>\n",
              "    </tr>\n",
              "    <tr>\n",
              "      <th>9</th>\n",
              "      <td>num_critic_for_reviews</td>\n",
              "      <td>0.045646</td>\n",
              "      <td>1.046704</td>\n",
              "    </tr>\n",
              "    <tr>\n",
              "      <th>15</th>\n",
              "      <td>intercept</td>\n",
              "      <td>0.048075</td>\n",
              "      <td>1.049250</td>\n",
              "    </tr>\n",
              "    <tr>\n",
              "      <th>7</th>\n",
              "      <td>movie_facebook_likes</td>\n",
              "      <td>0.141254</td>\n",
              "      <td>1.151718</td>\n",
              "    </tr>\n",
              "    <tr>\n",
              "      <th>8</th>\n",
              "      <td>duration</td>\n",
              "      <td>0.403772</td>\n",
              "      <td>1.497463</td>\n",
              "    </tr>\n",
              "    <tr>\n",
              "      <th>2</th>\n",
              "      <td>actor_1_facebook_likes</td>\n",
              "      <td>0.431369</td>\n",
              "      <td>1.539363</td>\n",
              "    </tr>\n",
              "    <tr>\n",
              "      <th>12</th>\n",
              "      <td>num_voted_users</td>\n",
              "      <td>1.843888</td>\n",
              "      <td>6.321068</td>\n",
              "    </tr>\n",
              "  </tbody>\n",
              "</table>\n",
              "</div>\n",
              "    <div class=\"colab-df-buttons\">\n",
              "\n",
              "  <div class=\"colab-df-container\">\n",
              "    <button class=\"colab-df-convert\" onclick=\"convertToInteractive('df-0d12e3cd-32e4-4cf8-9470-d5fa4144a938')\"\n",
              "            title=\"Convert this dataframe to an interactive table.\"\n",
              "            style=\"display:none;\">\n",
              "\n",
              "  <svg xmlns=\"http://www.w3.org/2000/svg\" height=\"24px\" viewBox=\"0 -960 960 960\">\n",
              "    <path d=\"M120-120v-720h720v720H120Zm60-500h600v-160H180v160Zm220 220h160v-160H400v160Zm0 220h160v-160H400v160ZM180-400h160v-160H180v160Zm440 0h160v-160H620v160ZM180-180h160v-160H180v160Zm440 0h160v-160H620v160Z\"/>\n",
              "  </svg>\n",
              "    </button>\n",
              "\n",
              "  <style>\n",
              "    .colab-df-container {\n",
              "      display:flex;\n",
              "      gap: 12px;\n",
              "    }\n",
              "\n",
              "    .colab-df-convert {\n",
              "      background-color: #E8F0FE;\n",
              "      border: none;\n",
              "      border-radius: 50%;\n",
              "      cursor: pointer;\n",
              "      display: none;\n",
              "      fill: #1967D2;\n",
              "      height: 32px;\n",
              "      padding: 0 0 0 0;\n",
              "      width: 32px;\n",
              "    }\n",
              "\n",
              "    .colab-df-convert:hover {\n",
              "      background-color: #E2EBFA;\n",
              "      box-shadow: 0px 1px 2px rgba(60, 64, 67, 0.3), 0px 1px 3px 1px rgba(60, 64, 67, 0.15);\n",
              "      fill: #174EA6;\n",
              "    }\n",
              "\n",
              "    .colab-df-buttons div {\n",
              "      margin-bottom: 4px;\n",
              "    }\n",
              "\n",
              "    [theme=dark] .colab-df-convert {\n",
              "      background-color: #3B4455;\n",
              "      fill: #D2E3FC;\n",
              "    }\n",
              "\n",
              "    [theme=dark] .colab-df-convert:hover {\n",
              "      background-color: #434B5C;\n",
              "      box-shadow: 0px 1px 3px 1px rgba(0, 0, 0, 0.15);\n",
              "      filter: drop-shadow(0px 1px 2px rgba(0, 0, 0, 0.3));\n",
              "      fill: #FFFFFF;\n",
              "    }\n",
              "  </style>\n",
              "\n",
              "    <script>\n",
              "      const buttonEl =\n",
              "        document.querySelector('#df-0d12e3cd-32e4-4cf8-9470-d5fa4144a938 button.colab-df-convert');\n",
              "      buttonEl.style.display =\n",
              "        google.colab.kernel.accessAllowed ? 'block' : 'none';\n",
              "\n",
              "      async function convertToInteractive(key) {\n",
              "        const element = document.querySelector('#df-0d12e3cd-32e4-4cf8-9470-d5fa4144a938');\n",
              "        const dataTable =\n",
              "          await google.colab.kernel.invokeFunction('convertToInteractive',\n",
              "                                                    [key], {});\n",
              "        if (!dataTable) return;\n",
              "\n",
              "        const docLinkHtml = 'Like what you see? Visit the ' +\n",
              "          '<a target=\"_blank\" href=https://colab.research.google.com/notebooks/data_table.ipynb>data table notebook</a>'\n",
              "          + ' to learn more about interactive tables.';\n",
              "        element.innerHTML = '';\n",
              "        dataTable['output_type'] = 'display_data';\n",
              "        await google.colab.output.renderOutput(dataTable, element);\n",
              "        const docLink = document.createElement('div');\n",
              "        docLink.innerHTML = docLinkHtml;\n",
              "        element.appendChild(docLink);\n",
              "      }\n",
              "    </script>\n",
              "  </div>\n",
              "\n",
              "\n",
              "<div id=\"df-3c1e4b51-4fac-4105-a603-3a4394889c1e\">\n",
              "  <button class=\"colab-df-quickchart\" onclick=\"quickchart('df-3c1e4b51-4fac-4105-a603-3a4394889c1e')\"\n",
              "            title=\"Suggest charts\"\n",
              "            style=\"display:none;\">\n",
              "\n",
              "<svg xmlns=\"http://www.w3.org/2000/svg\" height=\"24px\"viewBox=\"0 0 24 24\"\n",
              "     width=\"24px\">\n",
              "    <g>\n",
              "        <path d=\"M19 3H5c-1.1 0-2 .9-2 2v14c0 1.1.9 2 2 2h14c1.1 0 2-.9 2-2V5c0-1.1-.9-2-2-2zM9 17H7v-7h2v7zm4 0h-2V7h2v10zm4 0h-2v-4h2v4z\"/>\n",
              "    </g>\n",
              "</svg>\n",
              "  </button>\n",
              "\n",
              "<style>\n",
              "  .colab-df-quickchart {\n",
              "      --bg-color: #E8F0FE;\n",
              "      --fill-color: #1967D2;\n",
              "      --hover-bg-color: #E2EBFA;\n",
              "      --hover-fill-color: #174EA6;\n",
              "      --disabled-fill-color: #AAA;\n",
              "      --disabled-bg-color: #DDD;\n",
              "  }\n",
              "\n",
              "  [theme=dark] .colab-df-quickchart {\n",
              "      --bg-color: #3B4455;\n",
              "      --fill-color: #D2E3FC;\n",
              "      --hover-bg-color: #434B5C;\n",
              "      --hover-fill-color: #FFFFFF;\n",
              "      --disabled-bg-color: #3B4455;\n",
              "      --disabled-fill-color: #666;\n",
              "  }\n",
              "\n",
              "  .colab-df-quickchart {\n",
              "    background-color: var(--bg-color);\n",
              "    border: none;\n",
              "    border-radius: 50%;\n",
              "    cursor: pointer;\n",
              "    display: none;\n",
              "    fill: var(--fill-color);\n",
              "    height: 32px;\n",
              "    padding: 0;\n",
              "    width: 32px;\n",
              "  }\n",
              "\n",
              "  .colab-df-quickchart:hover {\n",
              "    background-color: var(--hover-bg-color);\n",
              "    box-shadow: 0 1px 2px rgba(60, 64, 67, 0.3), 0 1px 3px 1px rgba(60, 64, 67, 0.15);\n",
              "    fill: var(--button-hover-fill-color);\n",
              "  }\n",
              "\n",
              "  .colab-df-quickchart-complete:disabled,\n",
              "  .colab-df-quickchart-complete:disabled:hover {\n",
              "    background-color: var(--disabled-bg-color);\n",
              "    fill: var(--disabled-fill-color);\n",
              "    box-shadow: none;\n",
              "  }\n",
              "\n",
              "  .colab-df-spinner {\n",
              "    border: 2px solid var(--fill-color);\n",
              "    border-color: transparent;\n",
              "    border-bottom-color: var(--fill-color);\n",
              "    animation:\n",
              "      spin 1s steps(1) infinite;\n",
              "  }\n",
              "\n",
              "  @keyframes spin {\n",
              "    0% {\n",
              "      border-color: transparent;\n",
              "      border-bottom-color: var(--fill-color);\n",
              "      border-left-color: var(--fill-color);\n",
              "    }\n",
              "    20% {\n",
              "      border-color: transparent;\n",
              "      border-left-color: var(--fill-color);\n",
              "      border-top-color: var(--fill-color);\n",
              "    }\n",
              "    30% {\n",
              "      border-color: transparent;\n",
              "      border-left-color: var(--fill-color);\n",
              "      border-top-color: var(--fill-color);\n",
              "      border-right-color: var(--fill-color);\n",
              "    }\n",
              "    40% {\n",
              "      border-color: transparent;\n",
              "      border-right-color: var(--fill-color);\n",
              "      border-top-color: var(--fill-color);\n",
              "    }\n",
              "    60% {\n",
              "      border-color: transparent;\n",
              "      border-right-color: var(--fill-color);\n",
              "    }\n",
              "    80% {\n",
              "      border-color: transparent;\n",
              "      border-right-color: var(--fill-color);\n",
              "      border-bottom-color: var(--fill-color);\n",
              "    }\n",
              "    90% {\n",
              "      border-color: transparent;\n",
              "      border-bottom-color: var(--fill-color);\n",
              "    }\n",
              "  }\n",
              "</style>\n",
              "\n",
              "  <script>\n",
              "    async function quickchart(key) {\n",
              "      const quickchartButtonEl =\n",
              "        document.querySelector('#' + key + ' button');\n",
              "      quickchartButtonEl.disabled = true;  // To prevent multiple clicks.\n",
              "      quickchartButtonEl.classList.add('colab-df-spinner');\n",
              "      try {\n",
              "        const charts = await google.colab.kernel.invokeFunction(\n",
              "            'suggestCharts', [key], {});\n",
              "      } catch (error) {\n",
              "        console.error('Error during call to suggestCharts:', error);\n",
              "      }\n",
              "      quickchartButtonEl.classList.remove('colab-df-spinner');\n",
              "      quickchartButtonEl.classList.add('colab-df-quickchart-complete');\n",
              "    }\n",
              "    (() => {\n",
              "      let quickchartButtonEl =\n",
              "        document.querySelector('#df-3c1e4b51-4fac-4105-a603-3a4394889c1e button');\n",
              "      quickchartButtonEl.style.display =\n",
              "        google.colab.kernel.accessAllowed ? 'block' : 'none';\n",
              "    })();\n",
              "  </script>\n",
              "</div>\n",
              "\n",
              "    </div>\n",
              "  </div>\n"
            ],
            "text/plain": [
              "                     features      coef  exp_coef\n",
              "10                     budget -0.639542  0.527534\n",
              "6   cast_total_facebook_likes -0.594780  0.551684\n",
              "11       num_user_for_reviews -0.533066  0.586803\n",
              "4                  title_year -0.332823  0.716897\n",
              "5      actor_3_facebook_likes -0.280827  0.755159\n",
              "14                      gross -0.247531  0.780726\n",
              "0        facenumber_in_poster -0.103388  0.901777\n",
              "1      actor_2_facebook_likes  0.007886  1.007917\n",
              "3                aspect_ratio  0.025371  1.025695\n",
              "13    director_facebook_likes  0.027312  1.027688\n",
              "9      num_critic_for_reviews  0.045646  1.046704\n",
              "15                  intercept  0.048075  1.049250\n",
              "7        movie_facebook_likes  0.141254  1.151718\n",
              "8                    duration  0.403772  1.497463\n",
              "2      actor_1_facebook_likes  0.431369  1.539363\n",
              "12            num_voted_users  1.843888  6.321068"
            ]
          },
          "execution_count": 67,
          "metadata": {},
          "output_type": "execute_result"
        }
      ],
      "source": [
        "result_all=pd.DataFrame()\n",
        "result_all['features']=lr_all.feature_names_in_\n",
        "result_all['coef']=lr_all.coef_[0]\n",
        "result_all['exp_coef']=np.exp(lr_all.coef_[0])\n",
        "result_all.loc[len(result_all)]=[\"intercept\",lr_all.intercept_[0],np.exp(lr_all.intercept_[0])]\n",
        "result_all.sort_values(by=['exp_coef'])"
      ]
    }
  ],
  "metadata": {
    "colab": {
      "provenance": []
    },
    "kernelspec": {
      "display_name": "base",
      "language": "python",
      "name": "python3"
    },
    "language_info": {
      "codemirror_mode": {
        "name": "ipython",
        "version": 3
      },
      "file_extension": ".py",
      "mimetype": "text/x-python",
      "name": "python",
      "nbconvert_exporter": "python",
      "pygments_lexer": "ipython3",
      "version": "3.11.7"
    },
    "vscode": {
      "interpreter": {
        "hash": "cd78fef2128015050713e82ca51c6520b11aee7c9ee8df750520bbbc7384cbaa"
      }
    }
  },
  "nbformat": 4,
  "nbformat_minor": 0
}
