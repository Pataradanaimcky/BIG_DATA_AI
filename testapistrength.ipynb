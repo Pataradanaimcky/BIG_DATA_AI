{
 "cells": [
  {
   "cell_type": "code",
   "execution_count": 1,
   "metadata": {},
   "outputs": [
    {
     "ename": "KeyboardInterrupt",
     "evalue": "",
     "output_type": "error",
     "traceback": [
      "\u001b[0;31m---------------------------------------------------------------------------\u001b[0m",
      "\u001b[0;31mKeyboardInterrupt\u001b[0m                         Traceback (most recent call last)",
      "Cell \u001b[0;32mIn[1], line 69\u001b[0m\n\u001b[1;32m     66\u001b[0m TOTAL_REQUESTS \u001b[38;5;241m=\u001b[39m \u001b[38;5;241m100000\u001b[39m  \u001b[38;5;66;03m# Total number of requests to send\u001b[39;00m\n\u001b[1;32m     68\u001b[0m \u001b[38;5;66;03m# Call the function with NUM_WORKERS\u001b[39;00m\n\u001b[0;32m---> 69\u001b[0m send_requests_with_workers(TOTAL_REQUESTS, NUM_WORKERS)\n",
      "Cell \u001b[0;32mIn[1], line 47\u001b[0m, in \u001b[0;36msend_requests_with_workers\u001b[0;34m(total_requests, num_workers)\u001b[0m\n\u001b[1;32m     44\u001b[0m     threads\u001b[38;5;241m.\u001b[39mappend(thread)\n\u001b[1;32m     46\u001b[0m \u001b[38;5;66;03m# Wait for all tasks to complete\u001b[39;00m\n\u001b[0;32m---> 47\u001b[0m task_queue\u001b[38;5;241m.\u001b[39mjoin()\n\u001b[1;32m     49\u001b[0m \u001b[38;5;66;03m# Wait for all threads to finish\u001b[39;00m\n\u001b[1;32m     50\u001b[0m \u001b[38;5;28;01mfor\u001b[39;00m thread \u001b[38;5;129;01min\u001b[39;00m threads:\n",
      "File \u001b[0;32m/opt/anaconda3/lib/python3.11/queue.py:90\u001b[0m, in \u001b[0;36mQueue.join\u001b[0;34m(self)\u001b[0m\n\u001b[1;32m     88\u001b[0m \u001b[38;5;28;01mwith\u001b[39;00m \u001b[38;5;28mself\u001b[39m\u001b[38;5;241m.\u001b[39mall_tasks_done:\n\u001b[1;32m     89\u001b[0m     \u001b[38;5;28;01mwhile\u001b[39;00m \u001b[38;5;28mself\u001b[39m\u001b[38;5;241m.\u001b[39munfinished_tasks:\n\u001b[0;32m---> 90\u001b[0m         \u001b[38;5;28mself\u001b[39m\u001b[38;5;241m.\u001b[39mall_tasks_done\u001b[38;5;241m.\u001b[39mwait()\n",
      "File \u001b[0;32m/opt/anaconda3/lib/python3.11/threading.py:327\u001b[0m, in \u001b[0;36mCondition.wait\u001b[0;34m(self, timeout)\u001b[0m\n\u001b[1;32m    325\u001b[0m \u001b[38;5;28;01mtry\u001b[39;00m:    \u001b[38;5;66;03m# restore state no matter what (e.g., KeyboardInterrupt)\u001b[39;00m\n\u001b[1;32m    326\u001b[0m     \u001b[38;5;28;01mif\u001b[39;00m timeout \u001b[38;5;129;01mis\u001b[39;00m \u001b[38;5;28;01mNone\u001b[39;00m:\n\u001b[0;32m--> 327\u001b[0m         waiter\u001b[38;5;241m.\u001b[39macquire()\n\u001b[1;32m    328\u001b[0m         gotit \u001b[38;5;241m=\u001b[39m \u001b[38;5;28;01mTrue\u001b[39;00m\n\u001b[1;32m    329\u001b[0m     \u001b[38;5;28;01melse\u001b[39;00m:\n",
      "\u001b[0;31mKeyboardInterrupt\u001b[0m: "
     ]
    }
   ],
   "source": [
    "import requests\n",
    "from queue import Queue\n",
    "from threading import Thread\n",
    "import time\n",
    "\n",
    "# API endpoint\n",
    "API_URL = \"https://assetwise.co.th/api/\"\n",
    "\n",
    "# Number of workers (threads)\n",
    "NUM_WORKERS = 100\n",
    "\n",
    "# Function for each worker to process tasks from the queue\n",
    "def worker(task_queue, results):\n",
    "    while not task_queue.empty():\n",
    "        try:\n",
    "            # Get a task from the queue\n",
    "            _ = task_queue.get_nowait()\n",
    "            # Send the request\n",
    "            response = requests.get(API_URL, timeout=5)\n",
    "            # Record the status code or error\n",
    "            results.append(response.status_code if response.status_code == 200 else f\"Error: {response.status_code}\")\n",
    "        except requests.exceptions.RequestException as e:\n",
    "            results.append(f\"Error: {e}\")\n",
    "        finally:\n",
    "            task_queue.task_done()\n",
    "\n",
    "# Main function to manage the worker pool\n",
    "def send_requests_with_workers(total_requests, num_workers):\n",
    "    start_time = time.time()\n",
    "\n",
    "    # Create a task queue and fill it with tasks\n",
    "    task_queue = Queue()\n",
    "    for _ in range(total_requests):\n",
    "        task_queue.put(None)  # Task doesn't need data in this case\n",
    "\n",
    "    # List to collect results\n",
    "    results = []\n",
    "\n",
    "    # Create and start the workers\n",
    "    threads = []\n",
    "    for _ in range(num_workers):\n",
    "        thread = Thread(target=worker, args=(task_queue, results))\n",
    "        thread.start()\n",
    "        threads.append(thread)\n",
    "\n",
    "    # Wait for all tasks to complete\n",
    "    task_queue.join()\n",
    "\n",
    "    # Wait for all threads to finish\n",
    "    for thread in threads:\n",
    "        thread.join()\n",
    "\n",
    "    end_time = time.time()\n",
    "\n",
    "    # Analyze the results\n",
    "    success_count = sum(1 for result in results if result == 200)\n",
    "    fail_count = len(results) - success_count\n",
    "\n",
    "    print(f\"Total Requests Sent: {total_requests}\")\n",
    "    print(f\"Successful Requests: {success_count}\")\n",
    "    print(f\"Failed Requests: {fail_count}\")\n",
    "    print(f\"Time Taken: {end_time - start_time:.2f} seconds\")\n",
    "\n",
    "if __name__ == \"__main__\":\n",
    "    # Set the total number of requests\n",
    "    TOTAL_REQUESTS = 100000  # Total number of requests to send\n",
    "\n",
    "    # Call the function with NUM_WORKERS\n",
    "    send_requests_with_workers(TOTAL_REQUESTS, NUM_WORKERS)"
   ]
  }
 ],
 "metadata": {
  "kernelspec": {
   "display_name": "base",
   "language": "python",
   "name": "python3"
  },
  "language_info": {
   "codemirror_mode": {
    "name": "ipython",
    "version": 3
   },
   "file_extension": ".py",
   "mimetype": "text/x-python",
   "name": "python",
   "nbconvert_exporter": "python",
   "pygments_lexer": "ipython3",
   "version": "3.11.7"
  }
 },
 "nbformat": 4,
 "nbformat_minor": 2
}
